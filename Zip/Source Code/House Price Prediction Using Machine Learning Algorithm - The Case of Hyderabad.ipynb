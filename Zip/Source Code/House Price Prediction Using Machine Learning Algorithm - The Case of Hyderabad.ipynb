{
  "cells": [
    {
      "cell_type": "markdown",
      "metadata": {
        "id": "wRbsZltGcAbM"
      },
      "source": [
        "# New Section"
      ]
    },
    {
      "cell_type": "code",
      "execution_count": 1,
      "metadata": {
        "colab": {
          "base_uri": "https://localhost:8080/"
        },
        "id": "ZnwpEvJbt1Qs",
        "outputId": "d0f4d418-088e-4cba-a08b-5707561186be"
      },
      "outputs": [
        {
          "name": "stdout",
          "output_type": "stream",
          "text": [
            "Mounted at /content/drive\n"
          ]
        }
      ],
      "source": [
        "#Connecting Google Drive or else download the dataset and access through files\n",
        "from google.colab import drive\n",
        "drive.mount('/content/drive')"
      ]
    },
    {
      "cell_type": "code",
      "execution_count": 3,
      "metadata": {
        "id": "vBx1CYEwPQkY"
      },
      "outputs": [],
      "source": [
        "#Importing Libraries\n",
        "import pandas as pd\n",
        "import matplotlib.pyplot as plt\n",
        "from sklearn.preprocessing import LabelEncoder\n",
        "from sklearn.model_selection import train_test_split\n",
        "from sklearn.metrics import mean_absolute_error, mean_squared_error, r2_score\n",
        "from sklearn.neural_network import MLPRegressor"
      ]
    },
    {
      "cell_type": "code",
      "execution_count": 4,
      "metadata": {
        "id": "_1ixrLsnPQy7"
      },
      "outputs": [
        {
          "name": "stderr",
          "output_type": "stream",
          "text": [
            "<>:2: SyntaxWarning: invalid escape sequence '\\H'\n",
            "<>:2: SyntaxWarning: invalid escape sequence '\\H'\n",
            "C:\\Users\\MohdS\\AppData\\Local\\Temp\\ipykernel_12904\\2295445005.py:2: SyntaxWarning: invalid escape sequence '\\H'\n",
            "  data = pd.read_csv('D:\\House-Price-Prediction-using-Machine-Learning-Algorithm---The-case-of-Hyderabad-India\\Zip\\Dataset\\Hyderabad-Data.csv')\n"
          ]
        }
      ],
      "source": [
        "#Reading data\n",
        "data = pd.read_csv('D:\\House-Price-Prediction-using-Machine-Learning-Algorithm---The-case-of-Hyderabad-India\\Zip\\Dataset\\Hyderabad-Data.csv')"
      ]
    },
    {
      "cell_type": "code",
      "execution_count": 5,
      "metadata": {
        "id": "piH9SXK7vWNM"
      },
      "outputs": [],
      "source": [
        " data = data.sample(n=2000,random_state = 1)"
      ]
    },
    {
      "cell_type": "code",
      "execution_count": 6,
      "metadata": {
        "colab": {
          "base_uri": "https://localhost:8080/",
          "height": 411
        },
        "id": "xyDqzE7PvWTp",
        "outputId": "eda27d4f-ef2e-4b7d-eb2c-b047973a100f"
      },
      "outputs": [
        {
          "data": {
            "text/html": [
              "<div>\n",
              "<style scoped>\n",
              "    .dataframe tbody tr th:only-of-type {\n",
              "        vertical-align: middle;\n",
              "    }\n",
              "\n",
              "    .dataframe tbody tr th {\n",
              "        vertical-align: top;\n",
              "    }\n",
              "\n",
              "    .dataframe thead th {\n",
              "        text-align: right;\n",
              "    }\n",
              "</style>\n",
              "<table border=\"1\" class=\"dataframe\">\n",
              "  <thead>\n",
              "    <tr style=\"text-align: right;\">\n",
              "      <th></th>\n",
              "      <th>active</th>\n",
              "      <th>amenities</th>\n",
              "      <th>balconies</th>\n",
              "      <th>bathroom</th>\n",
              "      <th>combineDescription</th>\n",
              "      <th>completeStreetName</th>\n",
              "      <th>deposit</th>\n",
              "      <th>facing</th>\n",
              "      <th>facingDesc</th>\n",
              "      <th>floor</th>\n",
              "      <th>...</th>\n",
              "      <th>property_size</th>\n",
              "      <th>reactivationSource</th>\n",
              "      <th>rent_amount</th>\n",
              "      <th>sharedAccomodation</th>\n",
              "      <th>shortUrl</th>\n",
              "      <th>swimmingPool</th>\n",
              "      <th>totalFloor</th>\n",
              "      <th>type_bhk</th>\n",
              "      <th>waterSupply</th>\n",
              "      <th>weight</th>\n",
              "    </tr>\n",
              "  </thead>\n",
              "  <tbody>\n",
              "    <tr>\n",
              "      <th>15005</th>\n",
              "      <td>True</td>\n",
              "      <td>{\"LIFT\":false,\"GYM\":false,\"INTERNET\":false,\"AC...</td>\n",
              "      <td>0.0</td>\n",
              "      <td>2</td>\n",
              "      <td>NaN</td>\n",
              "      <td>Telecom Nagar , near Howard Lake View School</td>\n",
              "      <td>28000</td>\n",
              "      <td>NaN</td>\n",
              "      <td>NaN</td>\n",
              "      <td>2</td>\n",
              "      <td>...</td>\n",
              "      <td>1000</td>\n",
              "      <td>NaN</td>\n",
              "      <td>14000</td>\n",
              "      <td>False</td>\n",
              "      <td>http://nobr.kr/sv/RBy1h</td>\n",
              "      <td>False</td>\n",
              "      <td>3</td>\n",
              "      <td>BHK2</td>\n",
              "      <td>NaN</td>\n",
              "      <td>NaN</td>\n",
              "    </tr>\n",
              "    <tr>\n",
              "      <th>11064</th>\n",
              "      <td>True</td>\n",
              "      <td>{\"LIFT\":false,\"GYM\":false,\"INTERNET\":false,\"AC...</td>\n",
              "      <td>3.0</td>\n",
              "      <td>3</td>\n",
              "      <td>NaN</td>\n",
              "      <td>Huda Park Rd near More Supermarket</td>\n",
              "      <td>90000</td>\n",
              "      <td>NE</td>\n",
              "      <td>North-East</td>\n",
              "      <td>1</td>\n",
              "      <td>...</td>\n",
              "      <td>1800</td>\n",
              "      <td>MISSED_CALL</td>\n",
              "      <td>30000</td>\n",
              "      <td>False</td>\n",
              "      <td>http://nobr.kr/sv/6T5b4</td>\n",
              "      <td>False</td>\n",
              "      <td>4</td>\n",
              "      <td>BHK3</td>\n",
              "      <td>NaN</td>\n",
              "      <td>NaN</td>\n",
              "    </tr>\n",
              "    <tr>\n",
              "      <th>6423</th>\n",
              "      <td>True</td>\n",
              "      <td>{\"LIFT\":false,\"GYM\":false,\"INTERNET\":false,\"AC...</td>\n",
              "      <td>NaN</td>\n",
              "      <td>2</td>\n",
              "      <td>NaN</td>\n",
              "      <td>Hanuman Nagar, Near KIMS Plastic Surgery</td>\n",
              "      <td>46000</td>\n",
              "      <td>NaN</td>\n",
              "      <td>NaN</td>\n",
              "      <td>2</td>\n",
              "      <td>...</td>\n",
              "      <td>1250</td>\n",
              "      <td>PROPERTY_DASHBOARD</td>\n",
              "      <td>23000</td>\n",
              "      <td>False</td>\n",
              "      <td>http://nobr.kr/sv/DVd44</td>\n",
              "      <td>False</td>\n",
              "      <td>5</td>\n",
              "      <td>BHK2</td>\n",
              "      <td>BOREWELL</td>\n",
              "      <td>NaN</td>\n",
              "    </tr>\n",
              "    <tr>\n",
              "      <th>4845</th>\n",
              "      <td>True</td>\n",
              "      <td>{\"LIFT\":true,\"GYM\":false,\"INTERNET\":false,\"AC\"...</td>\n",
              "      <td>3.0</td>\n",
              "      <td>2</td>\n",
              "      <td>NaN</td>\n",
              "      <td>Kvr Towers, Friends Colony, Indira Nagar Colon...</td>\n",
              "      <td>44000</td>\n",
              "      <td>E</td>\n",
              "      <td>East</td>\n",
              "      <td>2</td>\n",
              "      <td>...</td>\n",
              "      <td>1700</td>\n",
              "      <td>USER_DASHBOARD</td>\n",
              "      <td>22000</td>\n",
              "      <td>False</td>\n",
              "      <td>http://nobr.kr/sv/tMQfj</td>\n",
              "      <td>False</td>\n",
              "      <td>5</td>\n",
              "      <td>BHK3</td>\n",
              "      <td>CORP_BORE</td>\n",
              "      <td>NaN</td>\n",
              "    </tr>\n",
              "    <tr>\n",
              "      <th>1288</th>\n",
              "      <td>True</td>\n",
              "      <td>{\"LIFT\":false,\"GYM\":false,\"INTERNET\":false,\"AC...</td>\n",
              "      <td>1.0</td>\n",
              "      <td>1</td>\n",
              "      <td>NaN</td>\n",
              "      <td>Padmarao Nagar,  near Shivalayam Temple</td>\n",
              "      <td>10000</td>\n",
              "      <td>E</td>\n",
              "      <td>East</td>\n",
              "      <td>1</td>\n",
              "      <td>...</td>\n",
              "      <td>500</td>\n",
              "      <td>NaN</td>\n",
              "      <td>5300</td>\n",
              "      <td>False</td>\n",
              "      <td>http://nobr.kr/sv/pbkDh</td>\n",
              "      <td>False</td>\n",
              "      <td>2</td>\n",
              "      <td>BHK1</td>\n",
              "      <td>BOREWELL</td>\n",
              "      <td>NaN</td>\n",
              "    </tr>\n",
              "  </tbody>\n",
              "</table>\n",
              "<p>5 rows × 36 columns</p>\n",
              "</div>"
            ],
            "text/plain": [
              "       active                                          amenities  balconies  \\\n",
              "15005    True  {\"LIFT\":false,\"GYM\":false,\"INTERNET\":false,\"AC...        0.0   \n",
              "11064    True  {\"LIFT\":false,\"GYM\":false,\"INTERNET\":false,\"AC...        3.0   \n",
              "6423     True  {\"LIFT\":false,\"GYM\":false,\"INTERNET\":false,\"AC...        NaN   \n",
              "4845     True  {\"LIFT\":true,\"GYM\":false,\"INTERNET\":false,\"AC\"...        3.0   \n",
              "1288     True  {\"LIFT\":false,\"GYM\":false,\"INTERNET\":false,\"AC...        1.0   \n",
              "\n",
              "       bathroom  combineDescription  \\\n",
              "15005         2                 NaN   \n",
              "11064         3                 NaN   \n",
              "6423          2                 NaN   \n",
              "4845          2                 NaN   \n",
              "1288          1                 NaN   \n",
              "\n",
              "                                      completeStreetName  deposit facing  \\\n",
              "15005       Telecom Nagar , near Howard Lake View School    28000    NaN   \n",
              "11064                 Huda Park Rd near More Supermarket    90000     NE   \n",
              "6423            Hanuman Nagar, Near KIMS Plastic Surgery    46000    NaN   \n",
              "4845   Kvr Towers, Friends Colony, Indira Nagar Colon...    44000      E   \n",
              "1288             Padmarao Nagar,  near Shivalayam Temple    10000      E   \n",
              "\n",
              "       facingDesc  floor  ... property_size  reactivationSource rent_amount  \\\n",
              "15005         NaN      2  ...          1000                 NaN       14000   \n",
              "11064  North-East      1  ...          1800         MISSED_CALL       30000   \n",
              "6423          NaN      2  ...          1250  PROPERTY_DASHBOARD       23000   \n",
              "4845         East      2  ...          1700      USER_DASHBOARD       22000   \n",
              "1288         East      1  ...           500                 NaN        5300   \n",
              "\n",
              "       sharedAccomodation                 shortUrl  swimmingPool totalFloor  \\\n",
              "15005               False  http://nobr.kr/sv/RBy1h         False          3   \n",
              "11064               False  http://nobr.kr/sv/6T5b4         False          4   \n",
              "6423                False  http://nobr.kr/sv/DVd44         False          5   \n",
              "4845                False  http://nobr.kr/sv/tMQfj         False          5   \n",
              "1288                False  http://nobr.kr/sv/pbkDh         False          2   \n",
              "\n",
              "      type_bhk waterSupply  weight  \n",
              "15005     BHK2         NaN     NaN  \n",
              "11064     BHK3         NaN     NaN  \n",
              "6423      BHK2    BOREWELL     NaN  \n",
              "4845      BHK3   CORP_BORE     NaN  \n",
              "1288      BHK1    BOREWELL     NaN  \n",
              "\n",
              "[5 rows x 36 columns]"
            ]
          },
          "execution_count": 6,
          "metadata": {},
          "output_type": "execute_result"
        }
      ],
      "source": [
        "data.head()"
      ]
    },
    {
      "cell_type": "code",
      "execution_count": 49,
      "metadata": {
        "colab": {
          "base_uri": "https://localhost:8080/"
        },
        "id": "q0YDrTbjvWWw",
        "outputId": "ec6d6817-5dc7-4b96-c153-6fde9660c25b"
      },
      "outputs": [
        {
          "name": "stdout",
          "output_type": "stream",
          "text": [
            "<class 'pandas.core.frame.DataFrame'>\n",
            "Index: 2000 entries, 15801 to 11475\n",
            "Data columns (total 36 columns):\n",
            " #   Column              Non-Null Count  Dtype  \n",
            "---  ------              --------------  -----  \n",
            " 0   active              2000 non-null   bool   \n",
            " 1   amenities           1980 non-null   object \n",
            " 2   balconies           1037 non-null   float64\n",
            " 3   bathroom            2000 non-null   int64  \n",
            " 4   combineDescription  0 non-null      float64\n",
            " 5   completeStreetName  2000 non-null   object \n",
            " 6   deposit             2000 non-null   int64  \n",
            " 7   facing              1022 non-null   object \n",
            " 8   facingDesc          1022 non-null   object \n",
            " 9   floor               2000 non-null   int64  \n",
            " 10  furnishingDesc      2000 non-null   object \n",
            " 11  gym                 2000 non-null   bool   \n",
            " 12  id                  2000 non-null   object \n",
            " 13  isMaintenance       2000 non-null   bool   \n",
            " 14  lift                2000 non-null   bool   \n",
            " 15  loanAvailable       2000 non-null   bool   \n",
            " 16  locality            2000 non-null   object \n",
            " 17  localityId          2000 non-null   object \n",
            " 18  location            2000 non-null   object \n",
            " 19  maintenanceAmount   997 non-null    float64\n",
            " 20  ownerName           2000 non-null   object \n",
            " 21  parking             2000 non-null   object \n",
            " 22  parkingDesc         1890 non-null   object \n",
            " 23  propertyTitle       2000 non-null   object \n",
            " 24  propertyType        2000 non-null   object \n",
            " 25  property_age        2000 non-null   int64  \n",
            " 26  property_size       2000 non-null   int64  \n",
            " 27  reactivationSource  990 non-null    object \n",
            " 28  rent_amount         2000 non-null   int64  \n",
            " 29  sharedAccomodation  2000 non-null   bool   \n",
            " 30  shortUrl            2000 non-null   object \n",
            " 31  swimmingPool        2000 non-null   bool   \n",
            " 32  totalFloor          2000 non-null   int64  \n",
            " 33  type_bhk            2000 non-null   object \n",
            " 34  waterSupply         1066 non-null   object \n",
            " 35  weight              0 non-null      float64\n",
            "dtypes: bool(7), float64(4), int64(7), object(18)\n",
            "memory usage: 482.4+ KB\n"
          ]
        }
      ],
      "source": [
        "data.info()"
      ]
    },
    {
      "cell_type": "code",
      "execution_count": 8,
      "metadata": {
        "colab": {
          "base_uri": "https://localhost:8080/",
          "height": 300
        },
        "id": "6SFjsMqmvWZp",
        "outputId": "14172b5e-66a4-4d41-fa66-7b9d2cc1e974"
      },
      "outputs": [
        {
          "data": {
            "text/html": [
              "<div>\n",
              "<style scoped>\n",
              "    .dataframe tbody tr th:only-of-type {\n",
              "        vertical-align: middle;\n",
              "    }\n",
              "\n",
              "    .dataframe tbody tr th {\n",
              "        vertical-align: top;\n",
              "    }\n",
              "\n",
              "    .dataframe thead th {\n",
              "        text-align: right;\n",
              "    }\n",
              "</style>\n",
              "<table border=\"1\" class=\"dataframe\">\n",
              "  <thead>\n",
              "    <tr style=\"text-align: right;\">\n",
              "      <th></th>\n",
              "      <th>balconies</th>\n",
              "      <th>bathroom</th>\n",
              "      <th>combineDescription</th>\n",
              "      <th>deposit</th>\n",
              "      <th>floor</th>\n",
              "      <th>maintenanceAmount</th>\n",
              "      <th>property_age</th>\n",
              "      <th>property_size</th>\n",
              "      <th>rent_amount</th>\n",
              "      <th>totalFloor</th>\n",
              "      <th>weight</th>\n",
              "    </tr>\n",
              "  </thead>\n",
              "  <tbody>\n",
              "    <tr>\n",
              "      <th>count</th>\n",
              "      <td>1037.000000</td>\n",
              "      <td>2000.000000</td>\n",
              "      <td>0.0</td>\n",
              "      <td>2.000000e+03</td>\n",
              "      <td>2000.000000</td>\n",
              "      <td>997.000000</td>\n",
              "      <td>2000.000000</td>\n",
              "      <td>2000.000000</td>\n",
              "      <td>2000.000000</td>\n",
              "      <td>2000.000000</td>\n",
              "      <td>0.0</td>\n",
              "    </tr>\n",
              "    <tr>\n",
              "      <th>mean</th>\n",
              "      <td>1.448409</td>\n",
              "      <td>1.913500</td>\n",
              "      <td>NaN</td>\n",
              "      <td>3.286520e+04</td>\n",
              "      <td>2.110000</td>\n",
              "      <td>1684.144433</td>\n",
              "      <td>3.731000</td>\n",
              "      <td>1058.107000</td>\n",
              "      <td>14754.499000</td>\n",
              "      <td>3.913000</td>\n",
              "      <td>NaN</td>\n",
              "    </tr>\n",
              "    <tr>\n",
              "      <th>std</th>\n",
              "      <td>0.811649</td>\n",
              "      <td>0.765709</td>\n",
              "      <td>NaN</td>\n",
              "      <td>5.231889e+04</td>\n",
              "      <td>2.347905</td>\n",
              "      <td>1746.353865</td>\n",
              "      <td>3.409612</td>\n",
              "      <td>532.732772</td>\n",
              "      <td>9206.112829</td>\n",
              "      <td>3.704766</td>\n",
              "      <td>NaN</td>\n",
              "    </tr>\n",
              "    <tr>\n",
              "      <th>min</th>\n",
              "      <td>0.000000</td>\n",
              "      <td>1.000000</td>\n",
              "      <td>NaN</td>\n",
              "      <td>1.000000e+00</td>\n",
              "      <td>0.000000</td>\n",
              "      <td>0.000000</td>\n",
              "      <td>-1.000000</td>\n",
              "      <td>0.000000</td>\n",
              "      <td>0.000000</td>\n",
              "      <td>0.000000</td>\n",
              "      <td>NaN</td>\n",
              "    </tr>\n",
              "    <tr>\n",
              "      <th>25%</th>\n",
              "      <td>1.000000</td>\n",
              "      <td>1.000000</td>\n",
              "      <td>NaN</td>\n",
              "      <td>1.600000e+04</td>\n",
              "      <td>1.000000</td>\n",
              "      <td>800.000000</td>\n",
              "      <td>1.000000</td>\n",
              "      <td>671.250000</td>\n",
              "      <td>8500.000000</td>\n",
              "      <td>2.000000</td>\n",
              "      <td>NaN</td>\n",
              "    </tr>\n",
              "    <tr>\n",
              "      <th>50%</th>\n",
              "      <td>1.000000</td>\n",
              "      <td>2.000000</td>\n",
              "      <td>NaN</td>\n",
              "      <td>2.400000e+04</td>\n",
              "      <td>2.000000</td>\n",
              "      <td>1500.000000</td>\n",
              "      <td>3.000000</td>\n",
              "      <td>1000.000000</td>\n",
              "      <td>12000.000000</td>\n",
              "      <td>3.000000</td>\n",
              "      <td>NaN</td>\n",
              "    </tr>\n",
              "    <tr>\n",
              "      <th>75%</th>\n",
              "      <td>2.000000</td>\n",
              "      <td>2.000000</td>\n",
              "      <td>NaN</td>\n",
              "      <td>4.000000e+04</td>\n",
              "      <td>3.000000</td>\n",
              "      <td>2000.000000</td>\n",
              "      <td>5.000000</td>\n",
              "      <td>1350.000000</td>\n",
              "      <td>18000.000000</td>\n",
              "      <td>5.000000</td>\n",
              "      <td>NaN</td>\n",
              "    </tr>\n",
              "    <tr>\n",
              "      <th>max</th>\n",
              "      <td>6.000000</td>\n",
              "      <td>8.000000</td>\n",
              "      <td>NaN</td>\n",
              "      <td>2.000000e+06</td>\n",
              "      <td>24.000000</td>\n",
              "      <td>32000.000000</td>\n",
              "      <td>10.000000</td>\n",
              "      <td>4000.000000</td>\n",
              "      <td>95000.000000</td>\n",
              "      <td>33.000000</td>\n",
              "      <td>NaN</td>\n",
              "    </tr>\n",
              "  </tbody>\n",
              "</table>\n",
              "</div>"
            ],
            "text/plain": [
              "         balconies     bathroom  combineDescription       deposit  \\\n",
              "count  1037.000000  2000.000000                 0.0  2.000000e+03   \n",
              "mean      1.448409     1.913500                 NaN  3.286520e+04   \n",
              "std       0.811649     0.765709                 NaN  5.231889e+04   \n",
              "min       0.000000     1.000000                 NaN  1.000000e+00   \n",
              "25%       1.000000     1.000000                 NaN  1.600000e+04   \n",
              "50%       1.000000     2.000000                 NaN  2.400000e+04   \n",
              "75%       2.000000     2.000000                 NaN  4.000000e+04   \n",
              "max       6.000000     8.000000                 NaN  2.000000e+06   \n",
              "\n",
              "             floor  maintenanceAmount  property_age  property_size  \\\n",
              "count  2000.000000         997.000000   2000.000000    2000.000000   \n",
              "mean      2.110000        1684.144433      3.731000    1058.107000   \n",
              "std       2.347905        1746.353865      3.409612     532.732772   \n",
              "min       0.000000           0.000000     -1.000000       0.000000   \n",
              "25%       1.000000         800.000000      1.000000     671.250000   \n",
              "50%       2.000000        1500.000000      3.000000    1000.000000   \n",
              "75%       3.000000        2000.000000      5.000000    1350.000000   \n",
              "max      24.000000       32000.000000     10.000000    4000.000000   \n",
              "\n",
              "        rent_amount   totalFloor  weight  \n",
              "count   2000.000000  2000.000000     0.0  \n",
              "mean   14754.499000     3.913000     NaN  \n",
              "std     9206.112829     3.704766     NaN  \n",
              "min        0.000000     0.000000     NaN  \n",
              "25%     8500.000000     2.000000     NaN  \n",
              "50%    12000.000000     3.000000     NaN  \n",
              "75%    18000.000000     5.000000     NaN  \n",
              "max    95000.000000    33.000000     NaN  "
            ]
          },
          "execution_count": 8,
          "metadata": {},
          "output_type": "execute_result"
        }
      ],
      "source": [
        "data.describe()"
      ]
    },
    {
      "cell_type": "code",
      "execution_count": 7,
      "metadata": {
        "id": "iPvyAspYvWcv"
      },
      "outputs": [],
      "source": [
        "#Dropping Irrelevant columns\n",
        "New_Data = data.drop(['active', 'amenities', 'balconies',\n",
        "       'completeStreetName', 'facing', 'facingDesc',\n",
        "        'id', 'isMaintenance', 'lift', 'loanAvailable',\n",
        "         'ownerName','waterSupply',\n",
        "       'reactivationSource',\n",
        "        'shortUrl', 'swimmingPool',\n",
        "        'weight','combineDescription','deposit','furnishingDesc','gym','parking','parkingDesc',\n",
        "                      'location','localityId','propertyTitle','propertyType','sharedAccomodation']\n",
        ",axis=1)"
      ]
    },
    {
      "cell_type": "code",
      "execution_count": 8,
      "metadata": {
        "colab": {
          "base_uri": "https://localhost:8080/"
        },
        "id": "AmGmlZf_vWfw",
        "outputId": "02431d60-122e-4651-e7fe-e25b207bcce2"
      },
      "outputs": [
        {
          "name": "stdout",
          "output_type": "stream",
          "text": [
            "<class 'pandas.core.frame.DataFrame'>\n",
            "Index: 2000 entries, 15005 to 5659\n",
            "Data columns (total 9 columns):\n",
            " #   Column             Non-Null Count  Dtype  \n",
            "---  ------             --------------  -----  \n",
            " 0   bathroom           2000 non-null   int64  \n",
            " 1   floor              2000 non-null   int64  \n",
            " 2   locality           2000 non-null   object \n",
            " 3   maintenanceAmount  997 non-null    float64\n",
            " 4   property_age       2000 non-null   int64  \n",
            " 5   property_size      2000 non-null   int64  \n",
            " 6   rent_amount        2000 non-null   int64  \n",
            " 7   totalFloor         2000 non-null   int64  \n",
            " 8   type_bhk           2000 non-null   object \n",
            "dtypes: float64(1), int64(6), object(2)\n",
            "memory usage: 156.2+ KB\n"
          ]
        }
      ],
      "source": [
        "# after removing irrelevant columns\n",
        "New_Data.info()"
      ]
    },
    {
      "cell_type": "code",
      "execution_count": 10,
      "metadata": {
        "id": "hquRpFbSvWia"
      },
      "outputs": [],
      "source": [
        "New_Data.replace({'type_bhk':{'RK1':0.5,'BHK1':1,'BHK2':2,'BHK3':3,'BHK4':4,'BHK4PLUS':5}},inplace=True)"
      ]
    },
    {
      "cell_type": "code",
      "execution_count": 11,
      "metadata": {
        "id": "a7dXt-g6J1n3"
      },
      "outputs": [
        {
          "name": "stderr",
          "output_type": "stream",
          "text": [
            "C:\\Users\\MohdS\\AppData\\Local\\Temp\\ipykernel_12904\\3057803198.py:2: FutureWarning: A value is trying to be set on a copy of a DataFrame or Series through chained assignment using an inplace method.\n",
            "The behavior will change in pandas 3.0. This inplace method will never work because the intermediate object on which we are setting values always behaves as a copy.\n",
            "\n",
            "For example, when doing 'df[col].method(value, inplace=True)', try using 'df.method({col: value}, inplace=True)' or df[col] = df[col].method(value) instead, to perform the operation inplace on the original object.\n",
            "\n",
            "\n",
            "  New_Data['maintenanceAmount'].replace('None', 0, inplace=True)\n",
            "C:\\Users\\MohdS\\AppData\\Local\\Temp\\ipykernel_12904\\3057803198.py:3: FutureWarning: A value is trying to be set on a copy of a DataFrame or Series through chained assignment using an inplace method.\n",
            "The behavior will change in pandas 3.0. This inplace method will never work because the intermediate object on which we are setting values always behaves as a copy.\n",
            "\n",
            "For example, when doing 'df[col].method(value, inplace=True)', try using 'df.method({col: value}, inplace=True)' or df[col] = df[col].method(value) instead, to perform the operation inplace on the original object.\n",
            "\n",
            "\n",
            "  New_Data['rent_amount'].replace('None', 0, inplace=True)\n"
          ]
        }
      ],
      "source": [
        "# Replace 'None' with 0 in the 'maintenanceAmount' and 'rent_amount' columns\n",
        "New_Data['maintenanceAmount'].replace('None', 0, inplace=True)\n",
        "New_Data['rent_amount'].replace('None', 0, inplace=True)\n",
        "\n",
        "# Convert the 'maintenanceAmount' and 'rent_amount' columns to numeric data\n",
        "New_Data['maintenanceAmount'] = pd.to_numeric(New_Data['maintenanceAmount'])\n",
        "New_Data['rent_amount'] = pd.to_numeric(New_Data['rent_amount'])"
      ]
    },
    {
      "cell_type": "code",
      "execution_count": 12,
      "metadata": {
        "id": "Kh5qzMyVvWlQ"
      },
      "outputs": [],
      "source": [
        "# Assuming 'object_column' contains strings and 'int_column' contains integ\n",
        "New_Data['total_price'] = New_Data['maintenanceAmount'].astype(str) + New_Data['rent_amount'].astype(str)"
      ]
    },
    {
      "cell_type": "code",
      "execution_count": 13,
      "metadata": {
        "colab": {
          "base_uri": "https://localhost:8080/"
        },
        "id": "y9F-33vBvWoP",
        "outputId": "a4dc8725-6e7d-444d-95f8-fe9ea3ad4e1c"
      },
      "outputs": [
        {
          "data": {
            "text/plain": [
              "15005       nan14000\n",
              "11064       1.030000\n",
              "6423     1800.023000\n",
              "4845     2000.022000\n",
              "1288         nan5300\n",
              "            ...     \n",
              "17219       nan14000\n",
              "16475       nan23000\n",
              "14206    1500.024000\n",
              "8733      1000.07000\n",
              "5659     1000.010000\n",
              "Name: total_price, Length: 2000, dtype: object"
            ]
          },
          "execution_count": 13,
          "metadata": {},
          "output_type": "execute_result"
        }
      ],
      "source": [
        "New_Data['total_price']"
      ]
    },
    {
      "cell_type": "code",
      "execution_count": 14,
      "metadata": {
        "id": "0_ltFLIHvWp6"
      },
      "outputs": [],
      "source": [
        "#Concatenating\n",
        "New_Data = pd.concat([New_Data.iloc[:, :-1], New_Data['total_price']], axis=1)"
      ]
    },
    {
      "cell_type": "code",
      "execution_count": 15,
      "metadata": {
        "colab": {
          "base_uri": "https://localhost:8080/",
          "height": 206
        },
        "id": "CIxFSk12wIdF",
        "outputId": "e0a15829-5eb7-422b-da1d-eebee018d0e2"
      },
      "outputs": [
        {
          "data": {
            "text/html": [
              "<div>\n",
              "<style scoped>\n",
              "    .dataframe tbody tr th:only-of-type {\n",
              "        vertical-align: middle;\n",
              "    }\n",
              "\n",
              "    .dataframe tbody tr th {\n",
              "        vertical-align: top;\n",
              "    }\n",
              "\n",
              "    .dataframe thead th {\n",
              "        text-align: right;\n",
              "    }\n",
              "</style>\n",
              "<table border=\"1\" class=\"dataframe\">\n",
              "  <thead>\n",
              "    <tr style=\"text-align: right;\">\n",
              "      <th></th>\n",
              "      <th>bathroom</th>\n",
              "      <th>floor</th>\n",
              "      <th>locality</th>\n",
              "      <th>maintenanceAmount</th>\n",
              "      <th>property_age</th>\n",
              "      <th>property_size</th>\n",
              "      <th>rent_amount</th>\n",
              "      <th>totalFloor</th>\n",
              "      <th>type_bhk</th>\n",
              "      <th>total_price</th>\n",
              "    </tr>\n",
              "  </thead>\n",
              "  <tbody>\n",
              "    <tr>\n",
              "      <th>15005</th>\n",
              "      <td>2</td>\n",
              "      <td>2</td>\n",
              "      <td>Gachibowli</td>\n",
              "      <td>NaN</td>\n",
              "      <td>5</td>\n",
              "      <td>1000</td>\n",
              "      <td>14000</td>\n",
              "      <td>3</td>\n",
              "      <td>2.0</td>\n",
              "      <td>nan14000</td>\n",
              "    </tr>\n",
              "    <tr>\n",
              "      <th>11064</th>\n",
              "      <td>3</td>\n",
              "      <td>1</td>\n",
              "      <td>Sanjeeva Reddy Nagar</td>\n",
              "      <td>1.0</td>\n",
              "      <td>7</td>\n",
              "      <td>1800</td>\n",
              "      <td>30000</td>\n",
              "      <td>4</td>\n",
              "      <td>3.0</td>\n",
              "      <td>1.030000</td>\n",
              "    </tr>\n",
              "    <tr>\n",
              "      <th>6423</th>\n",
              "      <td>2</td>\n",
              "      <td>2</td>\n",
              "      <td>Kondapur</td>\n",
              "      <td>1800.0</td>\n",
              "      <td>0</td>\n",
              "      <td>1250</td>\n",
              "      <td>23000</td>\n",
              "      <td>5</td>\n",
              "      <td>2.0</td>\n",
              "      <td>1800.023000</td>\n",
              "    </tr>\n",
              "    <tr>\n",
              "      <th>4845</th>\n",
              "      <td>2</td>\n",
              "      <td>2</td>\n",
              "      <td>Miyapur</td>\n",
              "      <td>2000.0</td>\n",
              "      <td>10</td>\n",
              "      <td>1700</td>\n",
              "      <td>22000</td>\n",
              "      <td>5</td>\n",
              "      <td>3.0</td>\n",
              "      <td>2000.022000</td>\n",
              "    </tr>\n",
              "    <tr>\n",
              "      <th>1288</th>\n",
              "      <td>1</td>\n",
              "      <td>1</td>\n",
              "      <td>Parsigutta</td>\n",
              "      <td>NaN</td>\n",
              "      <td>3</td>\n",
              "      <td>500</td>\n",
              "      <td>5300</td>\n",
              "      <td>2</td>\n",
              "      <td>1.0</td>\n",
              "      <td>nan5300</td>\n",
              "    </tr>\n",
              "  </tbody>\n",
              "</table>\n",
              "</div>"
            ],
            "text/plain": [
              "       bathroom  floor              locality  maintenanceAmount  property_age  \\\n",
              "15005         2      2            Gachibowli                NaN             5   \n",
              "11064         3      1  Sanjeeva Reddy Nagar                1.0             7   \n",
              "6423          2      2              Kondapur             1800.0             0   \n",
              "4845          2      2               Miyapur             2000.0            10   \n",
              "1288          1      1            Parsigutta                NaN             3   \n",
              "\n",
              "       property_size  rent_amount  totalFloor  type_bhk  total_price  \n",
              "15005           1000        14000           3       2.0     nan14000  \n",
              "11064           1800        30000           4       3.0     1.030000  \n",
              "6423            1250        23000           5       2.0  1800.023000  \n",
              "4845            1700        22000           5       3.0  2000.022000  \n",
              "1288             500         5300           2       1.0      nan5300  "
            ]
          },
          "execution_count": 15,
          "metadata": {},
          "output_type": "execute_result"
        }
      ],
      "source": [
        "New_Data.head()"
      ]
    },
    {
      "cell_type": "code",
      "execution_count": 16,
      "metadata": {
        "id": "U1p9X3bKwIgL"
      },
      "outputs": [],
      "source": [
        "New_Data = New_Data.drop(['rent_amount', 'maintenanceAmount'],axis=1)"
      ]
    },
    {
      "cell_type": "code",
      "execution_count": 19,
      "metadata": {
        "colab": {
          "base_uri": "https://localhost:8080/",
          "height": 206
        },
        "id": "Ga6kwTHAwIjj",
        "outputId": "e00337cb-ad32-47ba-fd55-a13d9fdf11a3"
      },
      "outputs": [
        {
          "data": {
            "text/html": [
              "<div>\n",
              "<style scoped>\n",
              "    .dataframe tbody tr th:only-of-type {\n",
              "        vertical-align: middle;\n",
              "    }\n",
              "\n",
              "    .dataframe tbody tr th {\n",
              "        vertical-align: top;\n",
              "    }\n",
              "\n",
              "    .dataframe thead th {\n",
              "        text-align: right;\n",
              "    }\n",
              "</style>\n",
              "<table border=\"1\" class=\"dataframe\">\n",
              "  <thead>\n",
              "    <tr style=\"text-align: right;\">\n",
              "      <th></th>\n",
              "      <th>bathroom</th>\n",
              "      <th>floor</th>\n",
              "      <th>locality</th>\n",
              "      <th>property_age</th>\n",
              "      <th>property_size</th>\n",
              "      <th>totalFloor</th>\n",
              "      <th>type_bhk</th>\n",
              "      <th>total_price</th>\n",
              "    </tr>\n",
              "  </thead>\n",
              "  <tbody>\n",
              "    <tr>\n",
              "      <th>15005</th>\n",
              "      <td>2</td>\n",
              "      <td>2</td>\n",
              "      <td>Gachibowli</td>\n",
              "      <td>5</td>\n",
              "      <td>1000</td>\n",
              "      <td>3</td>\n",
              "      <td>2.0</td>\n",
              "      <td>nan14000</td>\n",
              "    </tr>\n",
              "    <tr>\n",
              "      <th>11064</th>\n",
              "      <td>3</td>\n",
              "      <td>1</td>\n",
              "      <td>Sanjeeva Reddy Nagar</td>\n",
              "      <td>7</td>\n",
              "      <td>1800</td>\n",
              "      <td>4</td>\n",
              "      <td>3.0</td>\n",
              "      <td>1.030000</td>\n",
              "    </tr>\n",
              "    <tr>\n",
              "      <th>6423</th>\n",
              "      <td>2</td>\n",
              "      <td>2</td>\n",
              "      <td>Kondapur</td>\n",
              "      <td>0</td>\n",
              "      <td>1250</td>\n",
              "      <td>5</td>\n",
              "      <td>2.0</td>\n",
              "      <td>1800.023000</td>\n",
              "    </tr>\n",
              "    <tr>\n",
              "      <th>4845</th>\n",
              "      <td>2</td>\n",
              "      <td>2</td>\n",
              "      <td>Miyapur</td>\n",
              "      <td>10</td>\n",
              "      <td>1700</td>\n",
              "      <td>5</td>\n",
              "      <td>3.0</td>\n",
              "      <td>2000.022000</td>\n",
              "    </tr>\n",
              "    <tr>\n",
              "      <th>1288</th>\n",
              "      <td>1</td>\n",
              "      <td>1</td>\n",
              "      <td>Parsigutta</td>\n",
              "      <td>3</td>\n",
              "      <td>500</td>\n",
              "      <td>2</td>\n",
              "      <td>1.0</td>\n",
              "      <td>nan5300</td>\n",
              "    </tr>\n",
              "  </tbody>\n",
              "</table>\n",
              "</div>"
            ],
            "text/plain": [
              "       bathroom  floor              locality  property_age  property_size  \\\n",
              "15005         2      2            Gachibowli             5           1000   \n",
              "11064         3      1  Sanjeeva Reddy Nagar             7           1800   \n",
              "6423          2      2              Kondapur             0           1250   \n",
              "4845          2      2               Miyapur            10           1700   \n",
              "1288          1      1            Parsigutta             3            500   \n",
              "\n",
              "       totalFloor  type_bhk  total_price  \n",
              "15005           3       2.0     nan14000  \n",
              "11064           4       3.0     1.030000  \n",
              "6423            5       2.0  1800.023000  \n",
              "4845            5       3.0  2000.022000  \n",
              "1288            2       1.0      nan5300  "
            ]
          },
          "execution_count": 19,
          "metadata": {},
          "output_type": "execute_result"
        }
      ],
      "source": [
        "New_Data.head()"
      ]
    },
    {
      "cell_type": "code",
      "execution_count": 17,
      "metadata": {
        "colab": {
          "base_uri": "https://localhost:8080/"
        },
        "id": "6J-2EnhzwIme",
        "outputId": "63423d23-bbec-4ebf-d508-48946d9d773e"
      },
      "outputs": [
        {
          "data": {
            "text/plain": [
              "bathroom         0\n",
              "floor            0\n",
              "locality         0\n",
              "property_age     0\n",
              "property_size    0\n",
              "totalFloor       0\n",
              "type_bhk         0\n",
              "total_price      0\n",
              "dtype: int64"
            ]
          },
          "execution_count": 17,
          "metadata": {},
          "output_type": "execute_result"
        }
      ],
      "source": [
        "# after removing irrelevant columns\n",
        "New_Data.isnull().sum()"
      ]
    },
    {
      "cell_type": "code",
      "execution_count": 18,
      "metadata": {
        "colab": {
          "base_uri": "https://localhost:8080/"
        },
        "id": "MDIvjSqewIsP",
        "outputId": "3037f1c5-176a-45cc-a036-88d73eb82127"
      },
      "outputs": [
        {
          "data": {
            "text/plain": [
              "bathroom         0\n",
              "floor            0\n",
              "locality         0\n",
              "property_age     0\n",
              "property_size    0\n",
              "totalFloor       0\n",
              "type_bhk         0\n",
              "total_price      0\n",
              "dtype: int64"
            ]
          },
          "execution_count": 18,
          "metadata": {},
          "output_type": "execute_result"
        }
      ],
      "source": [
        "New_Data.isnull().sum()"
      ]
    },
    {
      "cell_type": "code",
      "execution_count": 19,
      "metadata": {
        "colab": {
          "base_uri": "https://localhost:8080/"
        },
        "id": "MUPeyccbwIu3",
        "outputId": "6b30d02c-5db2-406a-d4e3-236d90ccb293"
      },
      "outputs": [
        {
          "name": "stdout",
          "output_type": "stream",
          "text": [
            "<class 'pandas.core.frame.DataFrame'>\n",
            "Index: 2000 entries, 15005 to 5659\n",
            "Data columns (total 8 columns):\n",
            " #   Column         Non-Null Count  Dtype  \n",
            "---  ------         --------------  -----  \n",
            " 0   bathroom       2000 non-null   int64  \n",
            " 1   floor          2000 non-null   int64  \n",
            " 2   locality       2000 non-null   object \n",
            " 3   property_age   2000 non-null   int64  \n",
            " 4   property_size  2000 non-null   int64  \n",
            " 5   totalFloor     2000 non-null   int64  \n",
            " 6   type_bhk       2000 non-null   float64\n",
            " 7   total_price    2000 non-null   object \n",
            "dtypes: float64(1), int64(5), object(2)\n",
            "memory usage: 140.6+ KB\n"
          ]
        }
      ],
      "source": [
        "New_Data.info()"
      ]
    },
    {
      "cell_type": "code",
      "execution_count": 20,
      "metadata": {
        "colab": {
          "base_uri": "https://localhost:8080/",
          "height": 1000
        },
        "id": "x6_kd0i8wIxj",
        "outputId": "8eb1b5d8-9ba5-4818-a163-8bea5cc39b14"
      },
      "outputs": [
        {
          "data": {
            "text/html": [
              "<div>\n",
              "<style scoped>\n",
              "    .dataframe tbody tr th:only-of-type {\n",
              "        vertical-align: middle;\n",
              "    }\n",
              "\n",
              "    .dataframe tbody tr th {\n",
              "        vertical-align: top;\n",
              "    }\n",
              "\n",
              "    .dataframe thead th {\n",
              "        text-align: right;\n",
              "    }\n",
              "</style>\n",
              "<table border=\"1\" class=\"dataframe\">\n",
              "  <thead>\n",
              "    <tr style=\"text-align: right;\">\n",
              "      <th></th>\n",
              "      <th>bathroom</th>\n",
              "      <th>floor</th>\n",
              "      <th>locality</th>\n",
              "      <th>property_age</th>\n",
              "      <th>property_size</th>\n",
              "      <th>totalFloor</th>\n",
              "      <th>type_bhk</th>\n",
              "      <th>total_price</th>\n",
              "    </tr>\n",
              "  </thead>\n",
              "  <tbody>\n",
              "    <tr>\n",
              "      <th>15005</th>\n",
              "      <td>2</td>\n",
              "      <td>2</td>\n",
              "      <td>Gachibowli</td>\n",
              "      <td>5</td>\n",
              "      <td>1000</td>\n",
              "      <td>3</td>\n",
              "      <td>2.0</td>\n",
              "      <td>nan14000</td>\n",
              "    </tr>\n",
              "    <tr>\n",
              "      <th>11064</th>\n",
              "      <td>3</td>\n",
              "      <td>1</td>\n",
              "      <td>Sanjeeva Reddy Nagar</td>\n",
              "      <td>7</td>\n",
              "      <td>1800</td>\n",
              "      <td>4</td>\n",
              "      <td>3.0</td>\n",
              "      <td>1.030000</td>\n",
              "    </tr>\n",
              "    <tr>\n",
              "      <th>6423</th>\n",
              "      <td>2</td>\n",
              "      <td>2</td>\n",
              "      <td>Kondapur</td>\n",
              "      <td>0</td>\n",
              "      <td>1250</td>\n",
              "      <td>5</td>\n",
              "      <td>2.0</td>\n",
              "      <td>1800.023000</td>\n",
              "    </tr>\n",
              "    <tr>\n",
              "      <th>4845</th>\n",
              "      <td>2</td>\n",
              "      <td>2</td>\n",
              "      <td>Miyapur</td>\n",
              "      <td>10</td>\n",
              "      <td>1700</td>\n",
              "      <td>5</td>\n",
              "      <td>3.0</td>\n",
              "      <td>2000.022000</td>\n",
              "    </tr>\n",
              "    <tr>\n",
              "      <th>1288</th>\n",
              "      <td>1</td>\n",
              "      <td>1</td>\n",
              "      <td>Parsigutta</td>\n",
              "      <td>3</td>\n",
              "      <td>500</td>\n",
              "      <td>2</td>\n",
              "      <td>1.0</td>\n",
              "      <td>nan5300</td>\n",
              "    </tr>\n",
              "  </tbody>\n",
              "</table>\n",
              "</div>"
            ],
            "text/plain": [
              "       bathroom  floor              locality  property_age  property_size  \\\n",
              "15005         2      2            Gachibowli             5           1000   \n",
              "11064         3      1  Sanjeeva Reddy Nagar             7           1800   \n",
              "6423          2      2              Kondapur             0           1250   \n",
              "4845          2      2               Miyapur            10           1700   \n",
              "1288          1      1            Parsigutta             3            500   \n",
              "\n",
              "       totalFloor  type_bhk  total_price  \n",
              "15005           3       2.0     nan14000  \n",
              "11064           4       3.0     1.030000  \n",
              "6423            5       2.0  1800.023000  \n",
              "4845            5       3.0  2000.022000  \n",
              "1288            2       1.0      nan5300  "
            ]
          },
          "execution_count": 20,
          "metadata": {},
          "output_type": "execute_result"
        }
      ],
      "source": [
        "New_Data.head()"
      ]
    },
    {
      "cell_type": "code",
      "execution_count": 24,
      "metadata": {
        "colab": {
          "base_uri": "https://localhost:8080/",
          "height": 430
        },
        "id": "2Q7ZHtu2nCOM",
        "outputId": "ce6d3a7d-c00e-4c86-8299-b848f09822fc"
      },
      "outputs": [
        {
          "data": {
            "image/png": "[encoded data removed]",
            "text/plain": [
              "<Figure size 640x480 with 1 Axes>"
            ]
          },
          "metadata": {},
          "output_type": "display_data"
        }
      ],
      "source": [
        "from matplotlib import pyplot as plt\n",
        "import seaborn as sns\n",
        "_df_4.groupby('locality').size().plot(kind='barh', color=sns.palettes.mpl_palette('Dark2'))\n",
        "plt.gca().spines[['top', 'right',]].set_visible(False)"
      ]
    },
    {
      "cell_type": "code",
      "execution_count": 25,
      "metadata": {
        "colab": {
          "base_uri": "https://localhost:8080/",
          "height": 390
        },
        "id": "NdLbFlKGmr6p",
        "outputId": "c2d9a7fe-da3a-48ba-88e9-43ca64e2caae"
      },
      "outputs": [
        {
          "data": {
            "image/png": "[encoded data removed]",
            "text/plain": [
              "<Figure size 800x400 with 1 Axes>"
            ]
          },
          "metadata": {},
          "output_type": "display_data"
        }
      ],
      "source": [
        "from matplotlib import pyplot as plt\n",
        "_df_12['property_age'].plot(kind='line', figsize=(8, 4), title='property_age')\n",
        "plt.gca().spines[['top', 'right']].set_visible(False)"
      ]
    },
    {
      "cell_type": "code",
      "execution_count": 26,
      "metadata": {
        "colab": {
          "base_uri": "https://localhost:8080/",
          "height": 391
        },
        "id": "VWa6msZ9meIl",
        "outputId": "6dad5518-23cb-4cad-a228-165fae5c4a41"
      },
      "outputs": [
        {
          "data": {
            "image/png": "[encoded data removed]",
            "text/plain": [
              "<Figure size 800x400 with 1 Axes>"
            ]
          },
          "metadata": {},
          "output_type": "display_data"
        }
      ],
      "source": [
        "from matplotlib import pyplot as plt\n",
        "_df_10['bathroom'].plot(kind='line', figsize=(8, 4), title='bathroom')\n",
        "plt.gca().spines[['top', 'right']].set_visible(False)"
      ]
    },
    {
      "cell_type": "code",
      "execution_count": 27,
      "metadata": {
        "colab": {
          "base_uri": "https://localhost:8080/",
          "height": 846
        },
        "id": "Fg1lFSh4l7J0",
        "outputId": "cdbe4f4d-ef5a-4c9c-d75f-a2b2e4a99f91"
      },
      "outputs": [
        {
          "data": {
            "image/png": "[encoded data removed]",
            "text/plain": [
              "<Figure size 800x800 with 2 Axes>"
            ]
          },
          "metadata": {},
          "output_type": "display_data"
        }
      ],
      "source": [
        "from matplotlib import pyplot as plt\n",
        "import seaborn as sns\n",
        "import pandas as pd\n",
        "plt.subplots(figsize=(8, 8))\n",
        "df_2dhist = pd.DataFrame({\n",
        "    x_label: grp['total_price'].value_counts()\n",
        "    for x_label, grp in _df_14.groupby('locality')\n",
        "})\n",
        "sns.heatmap(df_2dhist, cmap='viridis')\n",
        "plt.xlabel('locality')\n",
        "_ = plt.ylabel('total_price')"
      ]
    },
    {
      "cell_type": "code",
      "execution_count": 29,
      "metadata": {
        "colab": {
          "base_uri": "https://localhost:8080/",
          "height": 452
        },
        "id": "oqU3HScZlkPf",
        "outputId": "b76b363b-6941-4099-9ab8-61c70daabbf8"
      },
      "outputs": [
        {
          "data": {
            "image/png": "[encoded data removed]",
            "text/plain": [
              "<Figure size 640x480 with 1 Axes>"
            ]
          },
          "metadata": {},
          "output_type": "display_data"
        }
      ],
      "source": [
        "from matplotlib import pyplot as plt\n",
        "_df_0['bathroom'].plot(kind='hist', bins=20, title='bathroom')\n",
        "plt.gca().spines[['top', 'right',]].set_visible(False)"
      ]
    },
    {
      "cell_type": "code",
      "execution_count": 30,
      "metadata": {
        "colab": {
          "base_uri": "https://localhost:8080/",
          "height": 206
        },
        "id": "y_ob1wRy0b1V",
        "outputId": "116a61ce-4dac-49ff-f4c4-9e970c3059dc"
      },
      "outputs": [
        {
          "data": {
            "text/html": [
              "\n",
              "  <div id=\"df-b0bdb061-1263-4713-b5f3-61461f47d54a\" class=\"colab-df-container\">\n",
              "    <div>\n",
              "<style scoped>\n",
              "    .dataframe tbody tr th:only-of-type {\n",
              "        vertical-align: middle;\n",
              "    }\n",
              "\n",
              "    .dataframe tbody tr th {\n",
              "        vertical-align: top;\n",
              "    }\n",
              "\n",
              "    .dataframe thead th {\n",
              "        text-align: right;\n",
              "    }\n",
              "</style>\n",
              "<table border=\"1\" class=\"dataframe\">\n",
              "  <thead>\n",
              "    <tr style=\"text-align: right;\">\n",
              "      <th></th>\n",
              "      <th>bathroom</th>\n",
              "      <th>floor</th>\n",
              "      <th>locality</th>\n",
              "      <th>property_age</th>\n",
              "      <th>property_size</th>\n",
              "      <th>totalFloor</th>\n",
              "      <th>type_bhk</th>\n",
              "      <th>total_price</th>\n",
              "    </tr>\n",
              "  </thead>\n",
              "  <tbody>\n",
              "    <tr>\n",
              "      <th>15005</th>\n",
              "      <td>2</td>\n",
              "      <td>2</td>\n",
              "      <td>Gachibowli</td>\n",
              "      <td>5</td>\n",
              "      <td>1000</td>\n",
              "      <td>3</td>\n",
              "      <td>2.0</td>\n",
              "      <td>014000</td>\n",
              "    </tr>\n",
              "    <tr>\n",
              "      <th>11064</th>\n",
              "      <td>3</td>\n",
              "      <td>1</td>\n",
              "      <td>Sanjeeva Reddy Nagar</td>\n",
              "      <td>7</td>\n",
              "      <td>1800</td>\n",
              "      <td>4</td>\n",
              "      <td>3.0</td>\n",
              "      <td>130000</td>\n",
              "    </tr>\n",
              "    <tr>\n",
              "      <th>6423</th>\n",
              "      <td>2</td>\n",
              "      <td>2</td>\n",
              "      <td>Kondapur</td>\n",
              "      <td>0</td>\n",
              "      <td>1250</td>\n",
              "      <td>5</td>\n",
              "      <td>2.0</td>\n",
              "      <td>180023000</td>\n",
              "    </tr>\n",
              "    <tr>\n",
              "      <th>4845</th>\n",
              "      <td>2</td>\n",
              "      <td>2</td>\n",
              "      <td>Miyapur</td>\n",
              "      <td>10</td>\n",
              "      <td>1700</td>\n",
              "      <td>5</td>\n",
              "      <td>3.0</td>\n",
              "      <td>200022000</td>\n",
              "    </tr>\n",
              "    <tr>\n",
              "      <th>1288</th>\n",
              "      <td>1</td>\n",
              "      <td>1</td>\n",
              "      <td>Parsigutta</td>\n",
              "      <td>3</td>\n",
              "      <td>500</td>\n",
              "      <td>2</td>\n",
              "      <td>1.0</td>\n",
              "      <td>05300</td>\n",
              "    </tr>\n",
              "  </tbody>\n",
              "</table>\n",
              "</div>\n",
              "    <div class=\"colab-df-buttons\">\n",
              "\n",
              "  <div class=\"colab-df-container\">\n",
              "    <button class=\"colab-df-convert\" onclick=\"convertToInteractive('df-b0bdb061-1263-4713-b5f3-61461f47d54a')\"\n",
              "            title=\"Convert this dataframe to an interactive table.\"\n",
              "            style=\"display:none;\">\n",
              "\n",
              "  <svg xmlns=\"http://www.w3.org/2000/svg\" height=\"24px\" viewBox=\"0 -960 960 960\">\n",
              "    <path d=\"M120-120v-720h720v720H120Zm60-500h600v-160H180v160Zm220 220h160v-160H400v160Zm0 220h160v-160H400v160ZM180-400h160v-160H180v160Zm440 0h160v-160H620v160ZM180-180h160v-160H180v160Zm440 0h160v-160H620v160Z\"/>\n",
              "  </svg>\n",
              "    </button>\n",
              "\n",
              "  <style>\n",
              "    .colab-df-container {\n",
              "      display:flex;\n",
              "      gap: 12px;\n",
              "    }\n",
              "\n",
              "    .colab-df-convert {\n",
              "      background-color: #E8F0FE;\n",
              "      border: none;\n",
              "      border-radius: 50%;\n",
              "      cursor: pointer;\n",
              "      display: none;\n",
              "      fill: #1967D2;\n",
              "      height: 32px;\n",
              "      padding: 0 0 0 0;\n",
              "      width: 32px;\n",
              "    }\n",
              "\n",
              "    .colab-df-convert:hover {\n",
              "      background-color: #E2EBFA;\n",
              "      box-shadow: 0px 1px 2px rgba(60, 64, 67, 0.3), 0px 1px 3px 1px rgba(60, 64, 67, 0.15);\n",
              "      fill: #174EA6;\n",
              "    }\n",
              "\n",
              "    .colab-df-buttons div {\n",
              "      margin-bottom: 4px;\n",
              "    }\n",
              "\n",
              "    [theme=dark] .colab-df-convert {\n",
              "      background-color: #3B4455;\n",
              "      fill: #D2E3FC;\n",
              "    }\n",
              "\n",
              "    [theme=dark] .colab-df-convert:hover {\n",
              "      background-color: #434B5C;\n",
              "      box-shadow: 0px 1px 3px 1px rgba(0, 0, 0, 0.15);\n",
              "      filter: drop-shadow(0px 1px 2px rgba(0, 0, 0, 0.3));\n",
              "      fill: #FFFFFF;\n",
              "    }\n",
              "  </style>\n",
              "\n",
              "    <script>\n",
              "      const buttonEl =\n",
              "        document.querySelector('#df-b0bdb061-1263-4713-b5f3-61461f47d54a button.colab-df-convert');\n",
              "      buttonEl.style.display =\n",
              "        google.colab.kernel.accessAllowed ? 'block' : 'none';\n",
              "\n",
              "      async function convertToInteractive(key) {\n",
              "        const element = document.querySelector('#df-b0bdb061-1263-4713-b5f3-61461f47d54a');\n",
              "        const dataTable =\n",
              "          await google.colab.kernel.invokeFunction('convertToInteractive',\n",
              "                                                    [key], {});\n",
              "        if (!dataTable) return;\n",
              "\n",
              "        const docLinkHtml = 'Like what you see? Visit the ' +\n",
              "          '<a target=\"_blank\" href=https://colab.research.google.com/notebooks/data_table.ipynb>data table notebook</a>'\n",
              "          + ' to learn more about interactive tables.';\n",
              "        element.innerHTML = '';\n",
              "        dataTable['output_type'] = 'display_data';\n",
              "        await google.colab.output.renderOutput(dataTable, element);\n",
              "        const docLink = document.createElement('div');\n",
              "        docLink.innerHTML = docLinkHtml;\n",
              "        element.appendChild(docLink);\n",
              "      }\n",
              "    </script>\n",
              "  </div>\n",
              "\n",
              "\n",
              "<div id=\"df-356a71d5-5e7f-46f2-ae58-0e39f88d9f96\">\n",
              "  <button class=\"colab-df-quickchart\" onclick=\"quickchart('df-356a71d5-5e7f-46f2-ae58-0e39f88d9f96')\"\n",
              "            title=\"Suggest charts\"\n",
              "            style=\"display:none;\">\n",
              "\n",
              "<svg xmlns=\"http://www.w3.org/2000/svg\" height=\"24px\"viewBox=\"0 0 24 24\"\n",
              "     width=\"24px\">\n",
              "    <g>\n",
              "        <path d=\"M19 3H5c-1.1 0-2 .9-2 2v14c0 1.1.9 2 2 2h14c1.1 0 2-.9 2-2V5c0-1.1-.9-2-2-2zM9 17H7v-7h2v7zm4 0h-2V7h2v10zm4 0h-2v-4h2v4z\"/>\n",
              "    </g>\n",
              "</svg>\n",
              "  </button>\n",
              "\n",
              "<style>\n",
              "  .colab-df-quickchart {\n",
              "      --bg-color: #E8F0FE;\n",
              "      --fill-color: #1967D2;\n",
              "      --hover-bg-color: #E2EBFA;\n",
              "      --hover-fill-color: #174EA6;\n",
              "      --disabled-fill-color: #AAA;\n",
              "      --disabled-bg-color: #DDD;\n",
              "  }\n",
              "\n",
              "  [theme=dark] .colab-df-quickchart {\n",
              "      --bg-color: #3B4455;\n",
              "      --fill-color: #D2E3FC;\n",
              "      --hover-bg-color: #434B5C;\n",
              "      --hover-fill-color: #FFFFFF;\n",
              "      --disabled-bg-color: #3B4455;\n",
              "      --disabled-fill-color: #666;\n",
              "  }\n",
              "\n",
              "  .colab-df-quickchart {\n",
              "    background-color: var(--bg-color);\n",
              "    border: none;\n",
              "    border-radius: 50%;\n",
              "    cursor: pointer;\n",
              "    display: none;\n",
              "    fill: var(--fill-color);\n",
              "    height: 32px;\n",
              "    padding: 0;\n",
              "    width: 32px;\n",
              "  }\n",
              "\n",
              "  .colab-df-quickchart:hover {\n",
              "    background-color: var(--hover-bg-color);\n",
              "    box-shadow: 0 1px 2px rgba(60, 64, 67, 0.3), 0 1px 3px 1px rgba(60, 64, 67, 0.15);\n",
              "    fill: var(--button-hover-fill-color);\n",
              "  }\n",
              "\n",
              "  .colab-df-quickchart-complete:disabled,\n",
              "  .colab-df-quickchart-complete:disabled:hover {\n",
              "    background-color: var(--disabled-bg-color);\n",
              "    fill: var(--disabled-fill-color);\n",
              "    box-shadow: none;\n",
              "  }\n",
              "\n",
              "  .colab-df-spinner {\n",
              "    border: 2px solid var(--fill-color);\n",
              "    border-color: transparent;\n",
              "    border-bottom-color: var(--fill-color);\n",
              "    animation:\n",
              "      spin 1s steps(1) infinite;\n",
              "  }\n",
              "\n",
              "  @keyframes spin {\n",
              "    0% {\n",
              "      border-color: transparent;\n",
              "      border-bottom-color: var(--fill-color);\n",
              "      border-left-color: var(--fill-color);\n",
              "    }\n",
              "    20% {\n",
              "      border-color: transparent;\n",
              "      border-left-color: var(--fill-color);\n",
              "      border-top-color: var(--fill-color);\n",
              "    }\n",
              "    30% {\n",
              "      border-color: transparent;\n",
              "      border-left-color: var(--fill-color);\n",
              "      border-top-color: var(--fill-color);\n",
              "      border-right-color: var(--fill-color);\n",
              "    }\n",
              "    40% {\n",
              "      border-color: transparent;\n",
              "      border-right-color: var(--fill-color);\n",
              "      border-top-color: var(--fill-color);\n",
              "    }\n",
              "    60% {\n",
              "      border-color: transparent;\n",
              "      border-right-color: var(--fill-color);\n",
              "    }\n",
              "    80% {\n",
              "      border-color: transparent;\n",
              "      border-right-color: var(--fill-color);\n",
              "      border-bottom-color: var(--fill-color);\n",
              "    }\n",
              "    90% {\n",
              "      border-color: transparent;\n",
              "      border-bottom-color: var(--fill-color);\n",
              "    }\n",
              "  }\n",
              "</style>\n",
              "\n",
              "  <script>\n",
              "    async function quickchart(key) {\n",
              "      const quickchartButtonEl =\n",
              "        document.querySelector('#' + key + ' button');\n",
              "      quickchartButtonEl.disabled = true;  // To prevent multiple clicks.\n",
              "      quickchartButtonEl.classList.add('colab-df-spinner');\n",
              "      try {\n",
              "        const charts = await google.colab.kernel.invokeFunction(\n",
              "            'suggestCharts', [key], {});\n",
              "      } catch (error) {\n",
              "        console.error('Error during call to suggestCharts:', error);\n",
              "      }\n",
              "      quickchartButtonEl.classList.remove('colab-df-spinner');\n",
              "      quickchartButtonEl.classList.add('colab-df-quickchart-complete');\n",
              "    }\n",
              "    (() => {\n",
              "      let quickchartButtonEl =\n",
              "        document.querySelector('#df-356a71d5-5e7f-46f2-ae58-0e39f88d9f96 button');\n",
              "      quickchartButtonEl.style.display =\n",
              "        google.colab.kernel.accessAllowed ? 'block' : 'none';\n",
              "    })();\n",
              "  </script>\n",
              "</div>\n",
              "    </div>\n",
              "  </div>\n"
            ],
            "text/plain": [
              "       bathroom  floor              locality  property_age  property_size  \\\n",
              "15005         2      2            Gachibowli             5           1000   \n",
              "11064         3      1  Sanjeeva Reddy Nagar             7           1800   \n",
              "6423          2      2              Kondapur             0           1250   \n",
              "4845          2      2               Miyapur            10           1700   \n",
              "1288          1      1            Parsigutta             3            500   \n",
              "\n",
              "       totalFloor  type_bhk total_price  \n",
              "15005           3       2.0      014000  \n",
              "11064           4       3.0      130000  \n",
              "6423            5       2.0   180023000  \n",
              "4845            5       3.0   200022000  \n",
              "1288            2       1.0       05300  "
            ]
          },
          "execution_count": 30,
          "metadata": {},
          "output_type": "execute_result"
        }
      ],
      "source": [
        "New_Data.head()"
      ]
    },
    {
      "cell_type": "code",
      "execution_count": 30,
      "metadata": {
        "id": "Vi2S7b-97PFb"
      },
      "outputs": [],
      "source": []
    },
    {
      "cell_type": "markdown",
      "metadata": {
        "id": "1LB4LMKJ7R1t"
      },
      "source": [
        "OUTLIERS ANALYSIS\n"
      ]
    },
    {
      "cell_type": "code",
      "execution_count": 21,
      "metadata": {
        "id": "jdv6ky2t7t-Y"
      },
      "outputs": [],
      "source": [
        "#Function() to detect Outliers\n",
        "def detect_outliers_z_score(New_Data):\n",
        "    threshold = 3\n",
        "    mean = New_Data.mean()\n",
        "    std = New_Data.std()\n",
        "    z_scores = (New_Data - mean) / std\n",
        "    return (z_scores > threshold) | (z_scores < -threshold)"
      ]
    },
    {
      "cell_type": "code",
      "execution_count": 12,
      "metadata": {
        "colab": {
          "base_uri": "https://localhost:8080/"
        },
        "id": "jm6APjmgvg5-",
        "outputId": "0fb3d33a-cdad-45f3-fee9-a30c74cca355"
      },
      "outputs": [
        {
          "name": "stdout",
          "output_type": "stream",
          "text": [
            "Outliers in the column:\n",
            "15005    False\n",
            "11064    False\n",
            "6423     False\n",
            "4845     False\n",
            "1288     False\n",
            "         ...  \n",
            "17219    False\n",
            "16475    False\n",
            "14206    False\n",
            "8733     False\n",
            "5659     False\n",
            "Name: property_size, Length: 2000, dtype: bool\n"
          ]
        }
      ],
      "source": [
        "# Outliers in property_size\n",
        "outliers= detect_outliers_z_score(New_Data['property_size'])\n",
        "if not outliers.empty:\n",
        "    print(\"Outliers in the column:\")\n",
        "    print(outliers)\n"
      ]
    },
    {
      "cell_type": "code",
      "execution_count": 33,
      "metadata": {
        "colab": {
          "base_uri": "https://localhost:8080/",
          "height": 452
        },
        "id": "roGAkcsivnw8",
        "outputId": "01ac268f-cdb1-4f0f-9791-dd5bd92d3c09"
      },
      "outputs": [
        {
          "data": {
            "image/png": "[encoded data removed]",
            "text/plain": [
              "<Figure size 640x480 with 1 Axes>"
            ]
          },
          "metadata": {},
          "output_type": "display_data"
        }
      ],
      "source": [
        "plt.figure()\n",
        "plt.boxplot(New_Data['property_size'])\n",
        "plt.title('Boxplot for type_bhk')\n",
        "plt.show()"
      ]
    },
    {
      "cell_type": "code",
      "execution_count": 13,
      "metadata": {
        "colab": {
          "base_uri": "https://localhost:8080/"
        },
        "id": "FQAeNKLAvutv",
        "outputId": "b6d41f3a-a61a-418a-a413-36873f6b1a99"
      },
      "outputs": [
        {
          "name": "stdout",
          "output_type": "stream",
          "text": [
            "DataFrame after removing outliers:\n",
            "       bathroom  floor              locality  property_age  property_size  \\\n",
            "15005         2      2            Gachibowli             5           1000   \n",
            "11064         3      1  Sanjeeva Reddy Nagar             7           1800   \n",
            "6423          2      2              Kondapur             0           1250   \n",
            "4845          2      2               Miyapur            10           1700   \n",
            "1288          1      1            Parsigutta             3            500   \n",
            "...         ...    ...                   ...           ...            ...   \n",
            "17219         1      2          Himayatnagar             0            300   \n",
            "16475         3      0     Ramachandra Puram             5           2000   \n",
            "14206         3      5            Kukatpally             0           1500   \n",
            "8733          2      3      Serilingampalle              5            800   \n",
            "5659          2      0             Manikonda             3            800   \n",
            "\n",
            "       totalFloor  type_bhk  total_price  \n",
            "15005           3       2.0     nan14000  \n",
            "11064           4       3.0     1.030000  \n",
            "6423            5       2.0  1800.023000  \n",
            "4845            5       3.0  2000.022000  \n",
            "1288            2       1.0      nan5300  \n",
            "...           ...       ...          ...  \n",
            "17219           2       0.5     nan14000  \n",
            "16475           2       4.0     nan23000  \n",
            "14206           6       3.0  1500.024000  \n",
            "8733            3       2.0   1000.07000  \n",
            "5659            5       1.0  1000.010000  \n",
            "\n",
            "[1999 rows x 8 columns]\n"
          ]
        }
      ],
      "source": [
        "Data = New_Data[~New_Data['property_size'].isin(outliers)]\n",
        "\n",
        "# Print the DataFrame after removing outliers\n",
        "print(\"DataFrame after removing outliers:\")\n",
        "print(Data)"
      ]
    },
    {
      "cell_type": "code",
      "execution_count": 14,
      "metadata": {
        "colab": {
          "base_uri": "https://localhost:8080/"
        },
        "id": "uozDI6JBG7g8",
        "outputId": "8bd0d391-18d0-4e14-aa39-fc1669da3fbc"
      },
      "outputs": [
        {
          "name": "stdout",
          "output_type": "stream",
          "text": [
            "Outliers in the column:\n",
            "15005    False\n",
            "11064    False\n",
            "6423     False\n",
            "4845     False\n",
            "1288     False\n",
            "         ...  \n",
            "17219    False\n",
            "16475    False\n",
            "14206    False\n",
            "8733     False\n",
            "5659     False\n",
            "Name: property_age, Length: 2000, dtype: bool\n"
          ]
        }
      ],
      "source": [
        "# Outliers in property_age\n",
        "outliers= detect_outliers_z_score(New_Data['property_age'])\n",
        "if not outliers.empty:\n",
        "    print(\"Outliers in the column:\")\n",
        "    print(outliers)\n"
      ]
    },
    {
      "cell_type": "code",
      "execution_count": 61,
      "metadata": {
        "colab": {
          "base_uri": "https://localhost:8080/",
          "height": 452
        },
        "id": "lmbf4173G7a2",
        "outputId": "038d556d-c236-47c1-dcb6-c0dfd3229ed0"
      },
      "outputs": [
        {
          "data": {
            "image/png": "[encoded data removed]",
            "text/plain": [
              "<Figure size 640x480 with 1 Axes>"
            ]
          },
          "metadata": {},
          "output_type": "display_data"
        }
      ],
      "source": [
        "plt.figure()\n",
        "plt.boxplot(New_Data['property_age'])\n",
        "plt.title('Boxplot for type_bhk')\n",
        "plt.show()"
      ]
    },
    {
      "cell_type": "code",
      "execution_count": 15,
      "metadata": {
        "colab": {
          "base_uri": "https://localhost:8080/"
        },
        "id": "vUsv8cSbHEso",
        "outputId": "3e2ad347-f33f-4589-c88f-8c070683ad84"
      },
      "outputs": [
        {
          "name": "stdout",
          "output_type": "stream",
          "text": [
            "DataFrame after removing outliers:\n",
            "       bathroom  floor              locality  property_age  property_size  \\\n",
            "15005         2      2            Gachibowli             5           1000   \n",
            "11064         3      1  Sanjeeva Reddy Nagar             7           1800   \n",
            "4845          2      2               Miyapur            10           1700   \n",
            "1288          1      1            Parsigutta             3            500   \n",
            "1638          3      0               Miyapur             3           1350   \n",
            "...         ...    ...                   ...           ...            ...   \n",
            "13642         2      4                 Abids             5           1250   \n",
            "9310          2      5     Vivekananda Nagar             3           1200   \n",
            "16475         3      0     Ramachandra Puram             5           2000   \n",
            "8733          2      3      Serilingampalle              5            800   \n",
            "5659          2      0             Manikonda             3            800   \n",
            "\n",
            "       totalFloor  type_bhk  total_price  \n",
            "15005           3       2.0     nan14000  \n",
            "11064           4       3.0     1.030000  \n",
            "4845            5       3.0  2000.022000  \n",
            "1288            2       1.0      nan5300  \n",
            "1638            0       2.0   1000.07000  \n",
            "...           ...       ...          ...  \n",
            "13642           4       2.0  1500.017000  \n",
            "9310            5       2.0  1200.022000  \n",
            "16475           2       4.0     nan23000  \n",
            "8733            3       2.0   1000.07000  \n",
            "5659            5       1.0  1000.010000  \n",
            "\n",
            "[1588 rows x 8 columns]\n"
          ]
        }
      ],
      "source": [
        "Data = New_Data[~New_Data['property_age'].isin(outliers)]\n",
        "\n",
        "# Print the DataFrame after removing outliers\n",
        "print(\"DataFrame after removing outliers:\")\n",
        "print(Data)"
      ]
    },
    {
      "cell_type": "code",
      "execution_count": 16,
      "metadata": {
        "colab": {
          "base_uri": "https://localhost:8080/"
        },
        "id": "ZqVnMJ8sHJHw",
        "outputId": "0f83168a-cb7d-4aa1-c247-482cd49bf76c"
      },
      "outputs": [
        {
          "name": "stdout",
          "output_type": "stream",
          "text": [
            "Outliers in the column:\n",
            "15005    False\n",
            "11064    False\n",
            "6423     False\n",
            "4845     False\n",
            "1288     False\n",
            "         ...  \n",
            "17219    False\n",
            "16475    False\n",
            "14206    False\n",
            "8733     False\n",
            "5659     False\n",
            "Name: totalFloor, Length: 2000, dtype: bool\n"
          ]
        }
      ],
      "source": [
        "# Outliers in totalFloor\n",
        "outliers= detect_outliers_z_score(New_Data['totalFloor'])\n",
        "if not outliers.empty:\n",
        "    print(\"Outliers in the column:\")\n",
        "    print(outliers)"
      ]
    },
    {
      "cell_type": "code",
      "execution_count": 39,
      "metadata": {
        "colab": {
          "base_uri": "https://localhost:8080/",
          "height": 452
        },
        "id": "8aD_blcEHJFM",
        "outputId": "9db23cf4-d417-49a1-cc4b-c5198d1ca910"
      },
      "outputs": [
        {
          "data": {
            "image/png": "[encoded data removed]",
            "text/plain": [
              "<Figure size 640x480 with 1 Axes>"
            ]
          },
          "metadata": {},
          "output_type": "display_data"
        }
      ],
      "source": [
        "plt.figure()\n",
        "plt.boxplot(New_Data['totalFloor'])\n",
        "plt.title('Boxplot for type_bhk')\n",
        "plt.show()"
      ]
    },
    {
      "cell_type": "code",
      "execution_count": 17,
      "metadata": {
        "colab": {
          "base_uri": "https://localhost:8080/"
        },
        "id": "v9X96B0WHJCL",
        "outputId": "fecbd1d4-6bbf-474e-c5d1-c4fe48a0c010"
      },
      "outputs": [
        {
          "name": "stdout",
          "output_type": "stream",
          "text": [
            "DataFrame after removing outliers:\n",
            "       bathroom  floor              locality  property_age  property_size  \\\n",
            "15005         2      2            Gachibowli             5           1000   \n",
            "11064         3      1  Sanjeeva Reddy Nagar             7           1800   \n",
            "6423          2      2              Kondapur             0           1250   \n",
            "4845          2      2               Miyapur            10           1700   \n",
            "1288          1      1            Parsigutta             3            500   \n",
            "...         ...    ...                   ...           ...            ...   \n",
            "17219         1      2          Himayatnagar             0            300   \n",
            "16475         3      0     Ramachandra Puram             5           2000   \n",
            "14206         3      5            Kukatpally             0           1500   \n",
            "8733          2      3      Serilingampalle              5            800   \n",
            "5659          2      0             Manikonda             3            800   \n",
            "\n",
            "       totalFloor  type_bhk  total_price  \n",
            "15005           3       2.0     nan14000  \n",
            "11064           4       3.0     1.030000  \n",
            "6423            5       2.0  1800.023000  \n",
            "4845            5       3.0  2000.022000  \n",
            "1288            2       1.0      nan5300  \n",
            "...           ...       ...          ...  \n",
            "17219           2       0.5     nan14000  \n",
            "16475           2       4.0     nan23000  \n",
            "14206           6       3.0  1500.024000  \n",
            "8733            3       2.0   1000.07000  \n",
            "5659            5       1.0  1000.010000  \n",
            "\n",
            "[1702 rows x 8 columns]\n"
          ]
        }
      ],
      "source": [
        "Data = New_Data[~New_Data['totalFloor'].isin(outliers)]\n",
        "\n",
        "# Print the DataFrame after removing outliers\n",
        "print(\"DataFrame after removing outliers:\")\n",
        "print(Data)"
      ]
    },
    {
      "cell_type": "code",
      "execution_count": 18,
      "metadata": {
        "colab": {
          "base_uri": "https://localhost:8080/"
        },
        "id": "FfJqypLlHWp9",
        "outputId": "1001830d-0b18-40e5-c586-33f0bd7846d3"
      },
      "outputs": [
        {
          "name": "stdout",
          "output_type": "stream",
          "text": [
            "Outliers in the column:\n",
            "15005    False\n",
            "11064    False\n",
            "6423     False\n",
            "4845     False\n",
            "1288     False\n",
            "         ...  \n",
            "17219    False\n",
            "16475    False\n",
            "14206    False\n",
            "8733     False\n",
            "5659     False\n",
            "Name: type_bhk, Length: 2000, dtype: bool\n"
          ]
        }
      ],
      "source": [
        "# Outliers in type_bhk\n",
        "outliers= detect_outliers_z_score(New_Data['type_bhk'])\n",
        "if not outliers.empty:\n",
        "    print(\"Outliers in the column:\")\n",
        "    print(outliers)"
      ]
    },
    {
      "cell_type": "code",
      "execution_count": 42,
      "metadata": {
        "colab": {
          "base_uri": "https://localhost:8080/",
          "height": 452
        },
        "id": "3ETevA8PHWnk",
        "outputId": "98d75cb1-f9d9-46fe-e82e-f00fa6da294a"
      },
      "outputs": [
        {
          "data": {
            "image/png": "[encoded data removed]",
            "text/plain": [
              "<Figure size 640x480 with 1 Axes>"
            ]
          },
          "metadata": {},
          "output_type": "display_data"
        }
      ],
      "source": [
        "plt.figure()\n",
        "plt.boxplot(New_Data['type_bhk'])\n",
        "plt.title('Boxplot for type_bhk')\n",
        "plt.show()"
      ]
    },
    {
      "cell_type": "code",
      "execution_count": 19,
      "metadata": {
        "colab": {
          "base_uri": "https://localhost:8080/"
        },
        "id": "CY6fzOJ9HWlJ",
        "outputId": "41b6bedb-540a-4c93-ba77-768a00b7fe20"
      },
      "outputs": [
        {
          "name": "stdout",
          "output_type": "stream",
          "text": [
            "DataFrame after removing outliers:\n",
            "       bathroom  floor              locality  property_age  property_size  \\\n",
            "15005         2      2            Gachibowli             5           1000   \n",
            "11064         3      1  Sanjeeva Reddy Nagar             7           1800   \n",
            "6423          2      2              Kondapur             0           1250   \n",
            "4845          2      2               Miyapur            10           1700   \n",
            "10454         2      2         Banjara Hills             0            900   \n",
            "...         ...    ...                   ...           ...            ...   \n",
            "9310          2      5     Vivekananda Nagar             3           1200   \n",
            "17219         1      2          Himayatnagar             0            300   \n",
            "16475         3      0     Ramachandra Puram             5           2000   \n",
            "14206         3      5            Kukatpally             0           1500   \n",
            "8733          2      3      Serilingampalle              5            800   \n",
            "\n",
            "       totalFloor  type_bhk  total_price  \n",
            "15005           3       2.0     nan14000  \n",
            "11064           4       3.0     1.030000  \n",
            "6423            5       2.0  1800.023000  \n",
            "4845            5       3.0  2000.022000  \n",
            "10454           4       2.0     nan24000  \n",
            "...           ...       ...          ...  \n",
            "9310            5       2.0  1200.022000  \n",
            "17219           2       0.5     nan14000  \n",
            "16475           2       4.0     nan23000  \n",
            "14206           6       3.0  1500.024000  \n",
            "8733            3       2.0   1000.07000  \n",
            "\n",
            "[1570 rows x 8 columns]\n"
          ]
        }
      ],
      "source": [
        "Data = New_Data[~New_Data['type_bhk'].isin(outliers)]\n",
        "\n",
        "# Print the DataFrame after removing outliers\n",
        "print(\"DataFrame after removing outliers:\")\n",
        "print(Data)"
      ]
    },
    {
      "cell_type": "code",
      "execution_count": 20,
      "metadata": {
        "colab": {
          "base_uri": "https://localhost:8080/"
        },
        "id": "lw_FRmHzHt7y",
        "outputId": "6410430d-9a33-4b1b-c106-2b2faaf81e1b"
      },
      "outputs": [
        {
          "name": "stdout",
          "output_type": "stream",
          "text": [
            "Outliers in the column:\n",
            "15005    False\n",
            "11064    False\n",
            "6423     False\n",
            "4845     False\n",
            "1288     False\n",
            "         ...  \n",
            "17219    False\n",
            "16475    False\n",
            "14206    False\n",
            "8733     False\n",
            "5659     False\n",
            "Name: bathroom, Length: 2000, dtype: bool\n"
          ]
        }
      ],
      "source": [
        "# Outliers in bathroom\n",
        "outliers= detect_outliers_z_score(New_Data['bathroom'])\n",
        "if not outliers.empty:\n",
        "    print(\"Outliers in the column:\")\n",
        "    print(outliers)"
      ]
    },
    {
      "cell_type": "code",
      "execution_count": 45,
      "metadata": {
        "colab": {
          "base_uri": "https://localhost:8080/",
          "height": 452
        },
        "id": "_QRaAlUwHt5K",
        "outputId": "4a324c3d-4e1d-4ef8-f70f-ff0b16cf186f"
      },
      "outputs": [
        {
          "data": {
            "image/png": "[encoded data removed]",
            "text/plain": [
              "<Figure size 640x480 with 1 Axes>"
            ]
          },
          "metadata": {},
          "output_type": "display_data"
        }
      ],
      "source": [
        "plt.figure()\n",
        "plt.boxplot(New_Data['bathroom'])\n",
        "plt.title('Boxplot for type_bhk')\n",
        "plt.show()"
      ]
    },
    {
      "cell_type": "code",
      "execution_count": 21,
      "metadata": {
        "colab": {
          "base_uri": "https://localhost:8080/"
        },
        "id": "gq4myCDDHt2Z",
        "outputId": "87ea44f6-1c5d-4c3f-a9c7-54e5e8cf5208"
      },
      "outputs": [
        {
          "name": "stdout",
          "output_type": "stream",
          "text": [
            "DataFrame after removing outliers:\n",
            "       bathroom  floor              locality  property_age  property_size  \\\n",
            "15005         2      2            Gachibowli             5           1000   \n",
            "11064         3      1  Sanjeeva Reddy Nagar             7           1800   \n",
            "6423          2      2              Kondapur             0           1250   \n",
            "4845          2      2               Miyapur            10           1700   \n",
            "10454         2      2         Banjara Hills             0            900   \n",
            "...         ...    ...                   ...           ...            ...   \n",
            "9310          2      5     Vivekananda Nagar             3           1200   \n",
            "16475         3      0     Ramachandra Puram             5           2000   \n",
            "14206         3      5            Kukatpally             0           1500   \n",
            "8733          2      3      Serilingampalle              5            800   \n",
            "5659          2      0             Manikonda             3            800   \n",
            "\n",
            "       totalFloor  type_bhk  total_price  \n",
            "15005           3       2.0     nan14000  \n",
            "11064           4       3.0     1.030000  \n",
            "6423            5       2.0  1800.023000  \n",
            "4845            5       3.0  2000.022000  \n",
            "10454           4       2.0     nan24000  \n",
            "...           ...       ...          ...  \n",
            "9310            5       2.0  1200.022000  \n",
            "16475           2       4.0     nan23000  \n",
            "14206           6       3.0  1500.024000  \n",
            "8733            3       2.0   1000.07000  \n",
            "5659            5       1.0  1000.010000  \n",
            "\n",
            "[1401 rows x 8 columns]\n"
          ]
        }
      ],
      "source": [
        "Data = New_Data[~New_Data['bathroom'].isin(outliers)]\n",
        "\n",
        "# Print the DataFrame after removing outliers\n",
        "print(\"DataFrame after removing outliers:\")\n",
        "print(Data)"
      ]
    },
    {
      "cell_type": "code",
      "execution_count": 22,
      "metadata": {
        "colab": {
          "base_uri": "https://localhost:8080/"
        },
        "id": "1lc5sqvg10qD",
        "outputId": "6beda511-4839-4b97-b994-6960c91b1c7a"
      },
      "outputs": [
        {
          "name": "stdout",
          "output_type": "stream",
          "text": [
            "15005              Gachibowli\n",
            "11064    Sanjeeva Reddy Nagar\n",
            "6423                 Kondapur\n",
            "4845                  Miyapur\n",
            "1288               Parsigutta\n",
            "                 ...         \n",
            "17219            Himayatnagar\n",
            "16475       Ramachandra Puram\n",
            "14206              Kukatpally\n",
            "8733         Serilingampalle \n",
            "5659                Manikonda\n",
            "Name: locality, Length: 2000, dtype: object\n"
          ]
        }
      ],
      "source": [
        "locality_data = New_Data['locality']\n",
        "print(locality_data)"
      ]
    },
    {
      "cell_type": "code",
      "execution_count": 23,
      "metadata": {
        "colab": {
          "base_uri": "https://localhost:8080/"
        },
        "id": "3fqxfUHbEPN2",
        "outputId": "ad9c1a1f-65ec-49c6-d8fd-4c82b65f5501"
      },
      "outputs": [],
      "source": [
        "# Initialize LabelEncoder\n",
        "label_encoder = LabelEncoder()\n",
        "\n",
        "# Fit and transform the 'locality' column\n",
        "New_Data['locality_encoded'] = label_encoder.fit_transform(New_Data['locality'])"
      ]
    },
    {
      "cell_type": "code",
      "execution_count": 24,
      "metadata": {
        "id": "mpHgZQKHED5M"
      },
      "outputs": [],
      "source": [
        "# Features and target variable\n",
        "X = New_Data[['bathroom','locality_encoded', 'property_age', 'property_size', 'totalFloor', 'type_bhk']]\n",
        "y = New_Data['total_price']"
      ]
    },
    {
      "cell_type": "code",
      "execution_count": 25,
      "metadata": {
        "id": "NFPXgUvdEJSz"
      },
      "outputs": [],
      "source": [
        "# Initialize the model\n",
        "model = GradientBoostingRegressor()"
      ]
    },
    {
      "cell_type": "code",
      "execution_count": 91,
      "metadata": {},
      "outputs": [],
      "source": [
        "\n",
        "from sklearn.ensemble import RandomForestRegressor, GradientBoostingRegressor\n",
        "from sklearn.tree import DecisionTreeRegressor\n",
        "from sklearn.metrics import mean_absolute_error, mean_squared_error, r2_score\n",
        "import xgboost as xgb\n",
        "from sklearn.svm import SVR\n",
        "from sklearn.neural_network import MLPRegressor\n",
        "import numpy as np"
      ]
    },
    {
      "cell_type": "code",
      "execution_count": 26,
      "metadata": {},
      "outputs": [
        {
          "data": {
            "text/html": [
              "<div>\n",
              "<style scoped>\n",
              "    .dataframe tbody tr th:only-of-type {\n",
              "        vertical-align: middle;\n",
              "    }\n",
              "\n",
              "    .dataframe tbody tr th {\n",
              "        vertical-align: top;\n",
              "    }\n",
              "\n",
              "    .dataframe thead th {\n",
              "        text-align: right;\n",
              "    }\n",
              "</style>\n",
              "<table border=\"1\" class=\"dataframe\">\n",
              "  <thead>\n",
              "    <tr style=\"text-align: right;\">\n",
              "      <th></th>\n",
              "      <th>bathroom</th>\n",
              "      <th>floor</th>\n",
              "      <th>locality</th>\n",
              "      <th>property_age</th>\n",
              "      <th>property_size</th>\n",
              "      <th>totalFloor</th>\n",
              "      <th>type_bhk</th>\n",
              "      <th>total_price</th>\n",
              "      <th>locality_encoded</th>\n",
              "    </tr>\n",
              "  </thead>\n",
              "  <tbody>\n",
              "    <tr>\n",
              "      <th>15005</th>\n",
              "      <td>2</td>\n",
              "      <td>2</td>\n",
              "      <td>Gachibowli</td>\n",
              "      <td>5</td>\n",
              "      <td>1000</td>\n",
              "      <td>3</td>\n",
              "      <td>2.0</td>\n",
              "      <td>nan14000</td>\n",
              "      <td>173</td>\n",
              "    </tr>\n",
              "    <tr>\n",
              "      <th>11064</th>\n",
              "      <td>3</td>\n",
              "      <td>1</td>\n",
              "      <td>Sanjeeva Reddy Nagar</td>\n",
              "      <td>7</td>\n",
              "      <td>1800</td>\n",
              "      <td>4</td>\n",
              "      <td>3.0</td>\n",
              "      <td>1.030000</td>\n",
              "      <td>467</td>\n",
              "    </tr>\n",
              "    <tr>\n",
              "      <th>6423</th>\n",
              "      <td>2</td>\n",
              "      <td>2</td>\n",
              "      <td>Kondapur</td>\n",
              "      <td>0</td>\n",
              "      <td>1250</td>\n",
              "      <td>5</td>\n",
              "      <td>2.0</td>\n",
              "      <td>1800.023000</td>\n",
              "      <td>274</td>\n",
              "    </tr>\n",
              "    <tr>\n",
              "      <th>4845</th>\n",
              "      <td>2</td>\n",
              "      <td>2</td>\n",
              "      <td>Miyapur</td>\n",
              "      <td>10</td>\n",
              "      <td>1700</td>\n",
              "      <td>5</td>\n",
              "      <td>3.0</td>\n",
              "      <td>2000.022000</td>\n",
              "      <td>342</td>\n",
              "    </tr>\n",
              "    <tr>\n",
              "      <th>1288</th>\n",
              "      <td>1</td>\n",
              "      <td>1</td>\n",
              "      <td>Parsigutta</td>\n",
              "      <td>3</td>\n",
              "      <td>500</td>\n",
              "      <td>2</td>\n",
              "      <td>1.0</td>\n",
              "      <td>nan5300</td>\n",
              "      <td>387</td>\n",
              "    </tr>\n",
              "  </tbody>\n",
              "</table>\n",
              "</div>"
            ],
            "text/plain": [
              "       bathroom  floor              locality  property_age  property_size  \\\n",
              "15005         2      2            Gachibowli             5           1000   \n",
              "11064         3      1  Sanjeeva Reddy Nagar             7           1800   \n",
              "6423          2      2              Kondapur             0           1250   \n",
              "4845          2      2               Miyapur            10           1700   \n",
              "1288          1      1            Parsigutta             3            500   \n",
              "\n",
              "       totalFloor  type_bhk  total_price  locality_encoded  \n",
              "15005           3       2.0     nan14000               173  \n",
              "11064           4       3.0     1.030000               467  \n",
              "6423            5       2.0  1800.023000               274  \n",
              "4845            5       3.0  2000.022000               342  \n",
              "1288            2       1.0      nan5300               387  "
            ]
          },
          "execution_count": 26,
          "metadata": {},
          "output_type": "execute_result"
        }
      ],
      "source": [
        "New_Data.head()"
      ]
    },
    {
      "cell_type": "code",
      "execution_count": 30,
      "metadata": {},
      "outputs": [
        {
          "data": {
            "text/plain": [
              "'locality_encoded'"
            ]
          },
          "execution_count": 30,
          "metadata": {},
          "output_type": "execute_result"
        }
      ],
      "source": [
        "dess = New_Data.columns[-1]\n",
        "dess"
      ]
    },
    {
      "cell_type": "code",
      "execution_count": 31,
      "metadata": {},
      "outputs": [],
      "source": [
        "New_Data['total_price'] = New_Data['total_price'].astype(str)"
      ]
    },
    {
      "cell_type": "code",
      "execution_count": 32,
      "metadata": {},
      "outputs": [],
      "source": [
        "New_Data['total_price'] = pd.to_numeric(New_Data['total_price'].str.replace(',', ''), errors='coerce')"
      ]
    },
    {
      "cell_type": "code",
      "execution_count": 33,
      "metadata": {},
      "outputs": [],
      "source": [
        "New_Data = New_Data.dropna(subset=['total_price'])"
      ]
    },
    {
      "cell_type": "code",
      "execution_count": 34,
      "metadata": {},
      "outputs": [],
      "source": [
        "# Split the data into training and testing sets\n",
        "X_train, X_test, y_train, y_test = train_test_split(X, y, test_size=0.2, random_state=42)"
      ]
    },
    {
      "cell_type": "code",
      "execution_count": 35,
      "metadata": {},
      "outputs": [
        {
          "data": {
            "text/plain": [
              "Index([ 4178, 12119, 18249,  4883,  5742, 15605,  2482, 14162, 18339, 13169,\n",
              "       11131,  7268, 14689, 13441, 10871,  1481, 14985,  1798, 14911, 13835,\n",
              "        4575, 13044,  1299, 14100, 11989,  4601,  2552, 10520, 14352,  2748,\n",
              "        8953, 17283],\n",
              "      dtype='int64')"
            ]
          },
          "execution_count": 35,
          "metadata": {},
          "output_type": "execute_result"
        }
      ],
      "source": [
        "indices_with_nan = y_train[y_train.str.contains('nan7000')].index\n",
        "indices_with_nan"
      ]
    },
    {
      "cell_type": "code",
      "execution_count": 36,
      "metadata": {},
      "outputs": [
        {
          "name": "stdout",
          "output_type": "stream",
          "text": [
            "bathroom            0\n",
            "floor               0\n",
            "locality            0\n",
            "property_age        0\n",
            "property_size       0\n",
            "totalFloor          0\n",
            "type_bhk            0\n",
            "total_price         0\n",
            "locality_encoded    0\n",
            "dtype: int64\n"
          ]
        }
      ],
      "source": [
        "# Assuming your data is in a DataFrame called 'df'\n",
        "print(New_Data.isna().sum())"
      ]
    },
    {
      "cell_type": "code",
      "execution_count": 38,
      "metadata": {},
      "outputs": [],
      "source": [
        "# Convert y to numeric, coercing errors to NaN\n",
        "y = pd.to_numeric(y, errors='coerce')"
      ]
    },
    {
      "cell_type": "code",
      "execution_count": 39,
      "metadata": {},
      "outputs": [],
      "source": [
        "X_cleaned = X[~y.isna()]\n",
        "y_cleaned = y.dropna()"
      ]
    },
    {
      "cell_type": "code",
      "execution_count": 40,
      "metadata": {},
      "outputs": [],
      "source": [
        "# Ensure X_cleaned and y_cleaned are still aligned after dropping NaNs\n",
        "X_cleaned = X_cleaned.loc[y_cleaned.index]"
      ]
    },
    {
      "cell_type": "code",
      "execution_count": 41,
      "metadata": {},
      "outputs": [
        {
          "name": "stdout",
          "output_type": "stream",
          "text": [
            "Cleaned y:\n",
            "11064       1.030\n",
            "6423     1800.023\n",
            "4845     2000.022\n",
            "1638     1000.070\n",
            "4960      500.050\n",
            "           ...   \n",
            "13642    1500.017\n",
            "9310     1200.022\n",
            "14206    1500.024\n",
            "8733     1000.070\n",
            "5659     1000.010\n",
            "Name: total_price, Length: 997, dtype: float64\n"
          ]
        }
      ],
      "source": [
        "# Display cleaned y\n",
        "print(\"Cleaned y:\")\n",
        "print(y_cleaned)"
      ]
    },
    {
      "cell_type": "code",
      "execution_count": 42,
      "metadata": {},
      "outputs": [],
      "source": [
        "# Split the data\n",
        "X_train, X_test, y_train, y_test = train_test_split(X_cleaned, y_cleaned, test_size=0.2, random_state=42)"
      ]
    },
    {
      "cell_type": "code",
      "execution_count": 43,
      "metadata": {
        "colab": {
          "base_uri": "https://localhost:8080/",
          "height": 74
        },
        "id": "qZofYSgMERuK",
        "outputId": "1df81adc-79d0-46b2-ef0e-59b62b45e266"
      },
      "outputs": [
        {
          "data": {
            "text/html": [
              "<style>#sk-container-id-1 {\n",
              "  /* Definition of color scheme common for light and dark mode */\n",
              "  --sklearn-color-text: black;\n",
              "  --sklearn-color-line: gray;\n",
              "  /* Definition of color scheme for unfitted estimators */\n",
              "  --sklearn-color-unfitted-level-0: #fff5e6;\n",
              "  --sklearn-color-unfitted-level-1: #f6e4d2;\n",
              "  --sklearn-color-unfitted-level-2: #ffe0b3;\n",
              "  --sklearn-color-unfitted-level-3: chocolate;\n",
              "  /* Definition of color scheme for fitted estimators */\n",
              "  --sklearn-color-fitted-level-0: #f0f8ff;\n",
              "  --sklearn-color-fitted-level-1: #d4ebff;\n",
              "  --sklearn-color-fitted-level-2: #b3dbfd;\n",
              "  --sklearn-color-fitted-level-3: cornflowerblue;\n",
              "\n",
              "  /* Specific color for light theme */\n",
              "  --sklearn-color-text-on-default-background: var(--sg-text-color, var(--theme-code-foreground, var(--jp-content-font-color1, black)));\n",
              "  --sklearn-color-background: var(--sg-background-color, var(--theme-background, var(--jp-layout-color0, white)));\n",
              "  --sklearn-color-border-box: var(--sg-text-color, var(--theme-code-foreground, var(--jp-content-font-color1, black)));\n",
              "  --sklearn-color-icon: #696969;\n",
              "\n",
              "  @media (prefers-color-scheme: dark) {\n",
              "    /* Redefinition of color scheme for dark theme */\n",
              "    --sklearn-color-text-on-default-background: var(--sg-text-color, var(--theme-code-foreground, var(--jp-content-font-color1, white)));\n",
              "    --sklearn-color-background: var(--sg-background-color, var(--theme-background, var(--jp-layout-color0, #111)));\n",
              "    --sklearn-color-border-box: var(--sg-text-color, var(--theme-code-foreground, var(--jp-content-font-color1, white)));\n",
              "    --sklearn-color-icon: #878787;\n",
              "  }\n",
              "}\n",
              "\n",
              "#sk-container-id-1 {\n",
              "  color: var(--sklearn-color-text);\n",
              "}\n",
              "\n",
              "#sk-container-id-1 pre {\n",
              "  padding: 0;\n",
              "}\n",
              "\n",
              "#sk-container-id-1 input.sk-hidden--visually {\n",
              "  border: 0;\n",
              "  clip: rect(1px 1px 1px 1px);\n",
              "  clip: rect(1px, 1px, 1px, 1px);\n",
              "  height: 1px;\n",
              "  margin: -1px;\n",
              "  overflow: hidden;\n",
              "  padding: 0;\n",
              "  position: absolute;\n",
              "  width: 1px;\n",
              "}\n",
              "\n",
              "#sk-container-id-1 div.sk-dashed-wrapped {\n",
              "  border: 1px dashed var(--sklearn-color-line);\n",
              "  margin: 0 0.4em 0.5em 0.4em;\n",
              "  box-sizing: border-box;\n",
              "  padding-bottom: 0.4em;\n",
              "  background-color: var(--sklearn-color-background);\n",
              "}\n",
              "\n",
              "#sk-container-id-1 div.sk-container {\n",
              "  /* jupyter's `normalize.less` sets `[hidden] { display: none; }`\n",
              "     but bootstrap.min.css set `[hidden] { display: none !important; }`\n",
              "     so we also need the `!important` here to be able to override the\n",
              "     default hidden behavior on the sphinx rendered scikit-learn.org.\n",
              "     See: https://github.com/scikit-learn/scikit-learn/issues/21755 */\n",
              "  display: inline-block !important;\n",
              "  position: relative;\n",
              "}\n",
              "\n",
              "#sk-container-id-1 div.sk-text-repr-fallback {\n",
              "  display: none;\n",
              "}\n",
              "\n",
              "div.sk-parallel-item,\n",
              "div.sk-serial,\n",
              "div.sk-item {\n",
              "  /* draw centered vertical line to link estimators */\n",
              "  background-image: linear-gradient(var(--sklearn-color-text-on-default-background), var(--sklearn-color-text-on-default-background));\n",
              "  background-size: 2px 100%;\n",
              "  background-repeat: no-repeat;\n",
              "  background-position: center center;\n",
              "}\n",
              "\n",
              "/* Parallel-specific style estimator block */\n",
              "\n",
              "#sk-container-id-1 div.sk-parallel-item::after {\n",
              "  content: \"\";\n",
              "  width: 100%;\n",
              "  border-bottom: 2px solid var(--sklearn-color-text-on-default-background);\n",
              "  flex-grow: 1;\n",
              "}\n",
              "\n",
              "#sk-container-id-1 div.sk-parallel {\n",
              "  display: flex;\n",
              "  align-items: stretch;\n",
              "  justify-content: center;\n",
              "  background-color: var(--sklearn-color-background);\n",
              "  position: relative;\n",
              "}\n",
              "\n",
              "#sk-container-id-1 div.sk-parallel-item {\n",
              "  display: flex;\n",
              "  flex-direction: column;\n",
              "}\n",
              "\n",
              "#sk-container-id-1 div.sk-parallel-item:first-child::after {\n",
              "  align-self: flex-end;\n",
              "  width: 50%;\n",
              "}\n",
              "\n",
              "#sk-container-id-1 div.sk-parallel-item:last-child::after {\n",
              "  align-self: flex-start;\n",
              "  width: 50%;\n",
              "}\n",
              "\n",
              "#sk-container-id-1 div.sk-parallel-item:only-child::after {\n",
              "  width: 0;\n",
              "}\n",
              "\n",
              "/* Serial-specific style estimator block */\n",
              "\n",
              "#sk-container-id-1 div.sk-serial {\n",
              "  display: flex;\n",
              "  flex-direction: column;\n",
              "  align-items: center;\n",
              "  background-color: var(--sklearn-color-background);\n",
              "  padding-right: 1em;\n",
              "  padding-left: 1em;\n",
              "}\n",
              "\n",
              "\n",
              "/* Toggleable style: style used for estimator/Pipeline/ColumnTransformer box that is\n",
              "clickable and can be expanded/collapsed.\n",
              "- Pipeline and ColumnTransformer use this feature and define the default style\n",
              "- Estimators will overwrite some part of the style using the `sk-estimator` class\n",
              "*/\n",
              "\n",
              "/* Pipeline and ColumnTransformer style (default) */\n",
              "\n",
              "#sk-container-id-1 div.sk-toggleable {\n",
              "  /* Default theme specific background. It is overwritten whether we have a\n",
              "  specific estimator or a Pipeline/ColumnTransformer */\n",
              "  background-color: var(--sklearn-color-background);\n",
              "}\n",
              "\n",
              "/* Toggleable label */\n",
              "#sk-container-id-1 label.sk-toggleable__label {\n",
              "  cursor: pointer;\n",
              "  display: block;\n",
              "  width: 100%;\n",
              "  margin-bottom: 0;\n",
              "  padding: 0.5em;\n",
              "  box-sizing: border-box;\n",
              "  text-align: center;\n",
              "}\n",
              "\n",
              "#sk-container-id-1 label.sk-toggleable__label-arrow:before {\n",
              "  /* Arrow on the left of the label */\n",
              "  content: \"▸\";\n",
              "  float: left;\n",
              "  margin-right: 0.25em;\n",
              "  color: var(--sklearn-color-icon);\n",
              "}\n",
              "\n",
              "#sk-container-id-1 label.sk-toggleable__label-arrow:hover:before {\n",
              "  color: var(--sklearn-color-text);\n",
              "}\n",
              "\n",
              "/* Toggleable content - dropdown */\n",
              "\n",
              "#sk-container-id-1 div.sk-toggleable__content {\n",
              "  max-height: 0;\n",
              "  max-width: 0;\n",
              "  overflow: hidden;\n",
              "  text-align: left;\n",
              "  /* unfitted */\n",
              "  background-color: var(--sklearn-color-unfitted-level-0);\n",
              "}\n",
              "\n",
              "#sk-container-id-1 div.sk-toggleable__content.fitted {\n",
              "  /* fitted */\n",
              "  background-color: var(--sklearn-color-fitted-level-0);\n",
              "}\n",
              "\n",
              "#sk-container-id-1 div.sk-toggleable__content pre {\n",
              "  margin: 0.2em;\n",
              "  border-radius: 0.25em;\n",
              "  color: var(--sklearn-color-text);\n",
              "  /* unfitted */\n",
              "  background-color: var(--sklearn-color-unfitted-level-0);\n",
              "}\n",
              "\n",
              "#sk-container-id-1 div.sk-toggleable__content.fitted pre {\n",
              "  /* unfitted */\n",
              "  background-color: var(--sklearn-color-fitted-level-0);\n",
              "}\n",
              "\n",
              "#sk-container-id-1 input.sk-toggleable__control:checked~div.sk-toggleable__content {\n",
              "  /* Expand drop-down */\n",
              "  max-height: 200px;\n",
              "  max-width: 100%;\n",
              "  overflow: auto;\n",
              "}\n",
              "\n",
              "#sk-container-id-1 input.sk-toggleable__control:checked~label.sk-toggleable__label-arrow:before {\n",
              "  content: \"▾\";\n",
              "}\n",
              "\n",
              "/* Pipeline/ColumnTransformer-specific style */\n",
              "\n",
              "#sk-container-id-1 div.sk-label input.sk-toggleable__control:checked~label.sk-toggleable__label {\n",
              "  color: var(--sklearn-color-text);\n",
              "  background-color: var(--sklearn-color-unfitted-level-2);\n",
              "}\n",
              "\n",
              "#sk-container-id-1 div.sk-label.fitted input.sk-toggleable__control:checked~label.sk-toggleable__label {\n",
              "  background-color: var(--sklearn-color-fitted-level-2);\n",
              "}\n",
              "\n",
              "/* Estimator-specific style */\n",
              "\n",
              "/* Colorize estimator box */\n",
              "#sk-container-id-1 div.sk-estimator input.sk-toggleable__control:checked~label.sk-toggleable__label {\n",
              "  /* unfitted */\n",
              "  background-color: var(--sklearn-color-unfitted-level-2);\n",
              "}\n",
              "\n",
              "#sk-container-id-1 div.sk-estimator.fitted input.sk-toggleable__control:checked~label.sk-toggleable__label {\n",
              "  /* fitted */\n",
              "  background-color: var(--sklearn-color-fitted-level-2);\n",
              "}\n",
              "\n",
              "#sk-container-id-1 div.sk-label label.sk-toggleable__label,\n",
              "#sk-container-id-1 div.sk-label label {\n",
              "  /* The background is the default theme color */\n",
              "  color: var(--sklearn-color-text-on-default-background);\n",
              "}\n",
              "\n",
              "/* On hover, darken the color of the background */\n",
              "#sk-container-id-1 div.sk-label:hover label.sk-toggleable__label {\n",
              "  color: var(--sklearn-color-text);\n",
              "  background-color: var(--sklearn-color-unfitted-level-2);\n",
              "}\n",
              "\n",
              "/* Label box, darken color on hover, fitted */\n",
              "#sk-container-id-1 div.sk-label.fitted:hover label.sk-toggleable__label.fitted {\n",
              "  color: var(--sklearn-color-text);\n",
              "  background-color: var(--sklearn-color-fitted-level-2);\n",
              "}\n",
              "\n",
              "/* Estimator label */\n",
              "\n",
              "#sk-container-id-1 div.sk-label label {\n",
              "  font-family: monospace;\n",
              "  font-weight: bold;\n",
              "  display: inline-block;\n",
              "  line-height: 1.2em;\n",
              "}\n",
              "\n",
              "#sk-container-id-1 div.sk-label-container {\n",
              "  text-align: center;\n",
              "}\n",
              "\n",
              "/* Estimator-specific */\n",
              "#sk-container-id-1 div.sk-estimator {\n",
              "  font-family: monospace;\n",
              "  border: 1px dotted var(--sklearn-color-border-box);\n",
              "  border-radius: 0.25em;\n",
              "  box-sizing: border-box;\n",
              "  margin-bottom: 0.5em;\n",
              "  /* unfitted */\n",
              "  background-color: var(--sklearn-color-unfitted-level-0);\n",
              "}\n",
              "\n",
              "#sk-container-id-1 div.sk-estimator.fitted {\n",
              "  /* fitted */\n",
              "  background-color: var(--sklearn-color-fitted-level-0);\n",
              "}\n",
              "\n",
              "/* on hover */\n",
              "#sk-container-id-1 div.sk-estimator:hover {\n",
              "  /* unfitted */\n",
              "  background-color: var(--sklearn-color-unfitted-level-2);\n",
              "}\n",
              "\n",
              "#sk-container-id-1 div.sk-estimator.fitted:hover {\n",
              "  /* fitted */\n",
              "  background-color: var(--sklearn-color-fitted-level-2);\n",
              "}\n",
              "\n",
              "/* Specification for estimator info (e.g. \"i\" and \"?\") */\n",
              "\n",
              "/* Common style for \"i\" and \"?\" */\n",
              "\n",
              ".sk-estimator-doc-link,\n",
              "a:link.sk-estimator-doc-link,\n",
              "a:visited.sk-estimator-doc-link {\n",
              "  float: right;\n",
              "  font-size: smaller;\n",
              "  line-height: 1em;\n",
              "  font-family: monospace;\n",
              "  background-color: var(--sklearn-color-background);\n",
              "  border-radius: 1em;\n",
              "  height: 1em;\n",
              "  width: 1em;\n",
              "  text-decoration: none !important;\n",
              "  margin-left: 1ex;\n",
              "  /* unfitted */\n",
              "  border: var(--sklearn-color-unfitted-level-1) 1pt solid;\n",
              "  color: var(--sklearn-color-unfitted-level-1);\n",
              "}\n",
              "\n",
              ".sk-estimator-doc-link.fitted,\n",
              "a:link.sk-estimator-doc-link.fitted,\n",
              "a:visited.sk-estimator-doc-link.fitted {\n",
              "  /* fitted */\n",
              "  border: var(--sklearn-color-fitted-level-1) 1pt solid;\n",
              "  color: var(--sklearn-color-fitted-level-1);\n",
              "}\n",
              "\n",
              "/* On hover */\n",
              "div.sk-estimator:hover .sk-estimator-doc-link:hover,\n",
              ".sk-estimator-doc-link:hover,\n",
              "div.sk-label-container:hover .sk-estimator-doc-link:hover,\n",
              ".sk-estimator-doc-link:hover {\n",
              "  /* unfitted */\n",
              "  background-color: var(--sklearn-color-unfitted-level-3);\n",
              "  color: var(--sklearn-color-background);\n",
              "  text-decoration: none;\n",
              "}\n",
              "\n",
              "div.sk-estimator.fitted:hover .sk-estimator-doc-link.fitted:hover,\n",
              ".sk-estimator-doc-link.fitted:hover,\n",
              "div.sk-label-container:hover .sk-estimator-doc-link.fitted:hover,\n",
              ".sk-estimator-doc-link.fitted:hover {\n",
              "  /* fitted */\n",
              "  background-color: var(--sklearn-color-fitted-level-3);\n",
              "  color: var(--sklearn-color-background);\n",
              "  text-decoration: none;\n",
              "}\n",
              "\n",
              "/* Span, style for the box shown on hovering the info icon */\n",
              ".sk-estimator-doc-link span {\n",
              "  display: none;\n",
              "  z-index: 9999;\n",
              "  position: relative;\n",
              "  font-weight: normal;\n",
              "  right: .2ex;\n",
              "  padding: .5ex;\n",
              "  margin: .5ex;\n",
              "  width: min-content;\n",
              "  min-width: 20ex;\n",
              "  max-width: 50ex;\n",
              "  color: var(--sklearn-color-text);\n",
              "  box-shadow: 2pt 2pt 4pt #999;\n",
              "  /* unfitted */\n",
              "  background: var(--sklearn-color-unfitted-level-0);\n",
              "  border: .5pt solid var(--sklearn-color-unfitted-level-3);\n",
              "}\n",
              "\n",
              ".sk-estimator-doc-link.fitted span {\n",
              "  /* fitted */\n",
              "  background: var(--sklearn-color-fitted-level-0);\n",
              "  border: var(--sklearn-color-fitted-level-3);\n",
              "}\n",
              "\n",
              ".sk-estimator-doc-link:hover span {\n",
              "  display: block;\n",
              "}\n",
              "\n",
              "/* \"?\"-specific style due to the `<a>` HTML tag */\n",
              "\n",
              "#sk-container-id-1 a.estimator_doc_link {\n",
              "  float: right;\n",
              "  font-size: 1rem;\n",
              "  line-height: 1em;\n",
              "  font-family: monospace;\n",
              "  background-color: var(--sklearn-color-background);\n",
              "  border-radius: 1rem;\n",
              "  height: 1rem;\n",
              "  width: 1rem;\n",
              "  text-decoration: none;\n",
              "  /* unfitted */\n",
              "  color: var(--sklearn-color-unfitted-level-1);\n",
              "  border: var(--sklearn-color-unfitted-level-1) 1pt solid;\n",
              "}\n",
              "\n",
              "#sk-container-id-1 a.estimator_doc_link.fitted {\n",
              "  /* fitted */\n",
              "  border: var(--sklearn-color-fitted-level-1) 1pt solid;\n",
              "  color: var(--sklearn-color-fitted-level-1);\n",
              "}\n",
              "\n",
              "/* On hover */\n",
              "#sk-container-id-1 a.estimator_doc_link:hover {\n",
              "  /* unfitted */\n",
              "  background-color: var(--sklearn-color-unfitted-level-3);\n",
              "  color: var(--sklearn-color-background);\n",
              "  text-decoration: none;\n",
              "}\n",
              "\n",
              "#sk-container-id-1 a.estimator_doc_link.fitted:hover {\n",
              "  /* fitted */\n",
              "  background-color: var(--sklearn-color-fitted-level-3);\n",
              "}\n",
              "</style><div id=\"sk-container-id-1\" class=\"sk-top-container\"><div class=\"sk-text-repr-fallback\"><pre>GradientBoostingRegressor()</pre><b>In a Jupyter environment, please rerun this cell to show the HTML representation or trust the notebook. <br />On GitHub, the HTML representation is unable to render, please try loading this page with nbviewer.org.</b></div><div class=\"sk-container\" hidden><div class=\"sk-item\"><div class=\"sk-estimator fitted sk-toggleable\"><input class=\"sk-toggleable__control sk-hidden--visually\" id=\"sk-estimator-id-1\" type=\"checkbox\" checked><label for=\"sk-estimator-id-1\" class=\"sk-toggleable__label fitted sk-toggleable__label-arrow fitted\">&nbsp;&nbsp;GradientBoostingRegressor<a class=\"sk-estimator-doc-link fitted\" rel=\"noreferrer\" target=\"_blank\" href=\"https://scikit-learn.org/1.5/modules/generated/sklearn.ensemble.GradientBoostingRegressor.html\">?<span>Documentation for GradientBoostingRegressor</span></a><span class=\"sk-estimator-doc-link fitted\">i<span>Fitted</span></span></label><div class=\"sk-toggleable__content fitted\"><pre>GradientBoostingRegressor()</pre></div> </div></div></div></div>"
            ],
            "text/plain": [
              "GradientBoostingRegressor()"
            ]
          },
          "execution_count": 43,
          "metadata": {},
          "output_type": "execute_result"
        }
      ],
      "source": [
        "# Train the model\n",
        "model.fit(X_train, y_train)"
      ]
    },
    {
      "cell_type": "code",
      "execution_count": 53,
      "metadata": {
        "colab": {
          "base_uri": "https://localhost:8080/",
          "height": 206
        },
        "id": "LGNjW-L9K_RV",
        "outputId": "e39172b0-cdb2-475c-c827-fe3f27929a3c"
      },
      "outputs": [
        {
          "data": {
            "text/html": [
              "\n",
              "  <div id=\"df-6f627861-a646-4d52-86cb-996d572ac254\" class=\"colab-df-container\">\n",
              "    <div>\n",
              "<style scoped>\n",
              "    .dataframe tbody tr th:only-of-type {\n",
              "        vertical-align: middle;\n",
              "    }\n",
              "\n",
              "    .dataframe tbody tr th {\n",
              "        vertical-align: top;\n",
              "    }\n",
              "\n",
              "    .dataframe thead th {\n",
              "        text-align: right;\n",
              "    }\n",
              "</style>\n",
              "<table border=\"1\" class=\"dataframe\">\n",
              "  <thead>\n",
              "    <tr style=\"text-align: right;\">\n",
              "      <th></th>\n",
              "      <th>bathroom</th>\n",
              "      <th>floor</th>\n",
              "      <th>locality</th>\n",
              "      <th>property_age</th>\n",
              "      <th>property_size</th>\n",
              "      <th>totalFloor</th>\n",
              "      <th>type_bhk</th>\n",
              "      <th>total_price</th>\n",
              "      <th>locality_encoded</th>\n",
              "    </tr>\n",
              "  </thead>\n",
              "  <tbody>\n",
              "    <tr>\n",
              "      <th>15005</th>\n",
              "      <td>2</td>\n",
              "      <td>2</td>\n",
              "      <td>Gachibowli</td>\n",
              "      <td>5</td>\n",
              "      <td>1000</td>\n",
              "      <td>3</td>\n",
              "      <td>2.0</td>\n",
              "      <td>014000</td>\n",
              "      <td>130</td>\n",
              "    </tr>\n",
              "    <tr>\n",
              "      <th>11064</th>\n",
              "      <td>3</td>\n",
              "      <td>1</td>\n",
              "      <td>Sanjeeva Reddy Nagar</td>\n",
              "      <td>7</td>\n",
              "      <td>1800</td>\n",
              "      <td>4</td>\n",
              "      <td>3.0</td>\n",
              "      <td>130000</td>\n",
              "      <td>364</td>\n",
              "    </tr>\n",
              "    <tr>\n",
              "      <th>6423</th>\n",
              "      <td>2</td>\n",
              "      <td>2</td>\n",
              "      <td>Kondapur</td>\n",
              "      <td>0</td>\n",
              "      <td>1250</td>\n",
              "      <td>5</td>\n",
              "      <td>2.0</td>\n",
              "      <td>180023000</td>\n",
              "      <td>208</td>\n",
              "    </tr>\n",
              "    <tr>\n",
              "      <th>4845</th>\n",
              "      <td>2</td>\n",
              "      <td>2</td>\n",
              "      <td>Miyapur</td>\n",
              "      <td>10</td>\n",
              "      <td>1700</td>\n",
              "      <td>5</td>\n",
              "      <td>3.0</td>\n",
              "      <td>200022000</td>\n",
              "      <td>265</td>\n",
              "    </tr>\n",
              "    <tr>\n",
              "      <th>10454</th>\n",
              "      <td>2</td>\n",
              "      <td>2</td>\n",
              "      <td>Banjara Hills</td>\n",
              "      <td>0</td>\n",
              "      <td>900</td>\n",
              "      <td>4</td>\n",
              "      <td>2.0</td>\n",
              "      <td>024000</td>\n",
              "      <td>78</td>\n",
              "    </tr>\n",
              "  </tbody>\n",
              "</table>\n",
              "</div>\n",
              "    <div class=\"colab-df-buttons\">\n",
              "\n",
              "  <div class=\"colab-df-container\">\n",
              "    <button class=\"colab-df-convert\" onclick=\"convertToInteractive('df-6f627861-a646-4d52-86cb-996d572ac254')\"\n",
              "            title=\"Convert this dataframe to an interactive table.\"\n",
              "            style=\"display:none;\">\n",
              "\n",
              "  <svg xmlns=\"http://www.w3.org/2000/svg\" height=\"24px\" viewBox=\"0 -960 960 960\">\n",
              "    <path d=\"M120-120v-720h720v720H120Zm60-500h600v-160H180v160Zm220 220h160v-160H400v160Zm0 220h160v-160H400v160ZM180-400h160v-160H180v160Zm440 0h160v-160H620v160ZM180-180h160v-160H180v160Zm440 0h160v-160H620v160Z\"/>\n",
              "  </svg>\n",
              "    </button>\n",
              "\n",
              "  <style>\n",
              "    .colab-df-container {\n",
              "      display:flex;\n",
              "      gap: 12px;\n",
              "    }\n",
              "\n",
              "    .colab-df-convert {\n",
              "      background-color: #E8F0FE;\n",
              "      border: none;\n",
              "      border-radius: 50%;\n",
              "      cursor: pointer;\n",
              "      display: none;\n",
              "      fill: #1967D2;\n",
              "      height: 32px;\n",
              "      padding: 0 0 0 0;\n",
              "      width: 32px;\n",
              "    }\n",
              "\n",
              "    .colab-df-convert:hover {\n",
              "      background-color: #E2EBFA;\n",
              "      box-shadow: 0px 1px 2px rgba(60, 64, 67, 0.3), 0px 1px 3px 1px rgba(60, 64, 67, 0.15);\n",
              "      fill: #174EA6;\n",
              "    }\n",
              "\n",
              "    .colab-df-buttons div {\n",
              "      margin-bottom: 4px;\n",
              "    }\n",
              "\n",
              "    [theme=dark] .colab-df-convert {\n",
              "      background-color: #3B4455;\n",
              "      fill: #D2E3FC;\n",
              "    }\n",
              "\n",
              "    [theme=dark] .colab-df-convert:hover {\n",
              "      background-color: #434B5C;\n",
              "      box-shadow: 0px 1px 3px 1px rgba(0, 0, 0, 0.15);\n",
              "      filter: drop-shadow(0px 1px 2px rgba(0, 0, 0, 0.3));\n",
              "      fill: #FFFFFF;\n",
              "    }\n",
              "  </style>\n",
              "\n",
              "    <script>\n",
              "      const buttonEl =\n",
              "        document.querySelector('#df-6f627861-a646-4d52-86cb-996d572ac254 button.colab-df-convert');\n",
              "      buttonEl.style.display =\n",
              "        google.colab.kernel.accessAllowed ? 'block' : 'none';\n",
              "\n",
              "      async function convertToInteractive(key) {\n",
              "        const element = document.querySelector('#df-6f627861-a646-4d52-86cb-996d572ac254');\n",
              "        const dataTable =\n",
              "          await google.colab.kernel.invokeFunction('convertToInteractive',\n",
              "                                                    [key], {});\n",
              "        if (!dataTable) return;\n",
              "\n",
              "        const docLinkHtml = 'Like what you see? Visit the ' +\n",
              "          '<a target=\"_blank\" href=https://colab.research.google.com/notebooks/data_table.ipynb>data table notebook</a>'\n",
              "          + ' to learn more about interactive tables.';\n",
              "        element.innerHTML = '';\n",
              "        dataTable['output_type'] = 'display_data';\n",
              "        await google.colab.output.renderOutput(dataTable, element);\n",
              "        const docLink = document.createElement('div');\n",
              "        docLink.innerHTML = docLinkHtml;\n",
              "        element.appendChild(docLink);\n",
              "      }\n",
              "    </script>\n",
              "  </div>\n",
              "\n",
              "\n",
              "<div id=\"df-94cbf6a6-15be-4bff-a638-68b069da6b7c\">\n",
              "  <button class=\"colab-df-quickchart\" onclick=\"quickchart('df-94cbf6a6-15be-4bff-a638-68b069da6b7c')\"\n",
              "            title=\"Suggest charts\"\n",
              "            style=\"display:none;\">\n",
              "\n",
              "<svg xmlns=\"http://www.w3.org/2000/svg\" height=\"24px\"viewBox=\"0 0 24 24\"\n",
              "     width=\"24px\">\n",
              "    <g>\n",
              "        <path d=\"M19 3H5c-1.1 0-2 .9-2 2v14c0 1.1.9 2 2 2h14c1.1 0 2-.9 2-2V5c0-1.1-.9-2-2-2zM9 17H7v-7h2v7zm4 0h-2V7h2v10zm4 0h-2v-4h2v4z\"/>\n",
              "    </g>\n",
              "</svg>\n",
              "  </button>\n",
              "\n",
              "<style>\n",
              "  .colab-df-quickchart {\n",
              "      --bg-color: #E8F0FE;\n",
              "      --fill-color: #1967D2;\n",
              "      --hover-bg-color: #E2EBFA;\n",
              "      --hover-fill-color: #174EA6;\n",
              "      --disabled-fill-color: #AAA;\n",
              "      --disabled-bg-color: #DDD;\n",
              "  }\n",
              "\n",
              "  [theme=dark] .colab-df-quickchart {\n",
              "      --bg-color: #3B4455;\n",
              "      --fill-color: #D2E3FC;\n",
              "      --hover-bg-color: #434B5C;\n",
              "      --hover-fill-color: #FFFFFF;\n",
              "      --disabled-bg-color: #3B4455;\n",
              "      --disabled-fill-color: #666;\n",
              "  }\n",
              "\n",
              "  .colab-df-quickchart {\n",
              "    background-color: var(--bg-color);\n",
              "    border: none;\n",
              "    border-radius: 50%;\n",
              "    cursor: pointer;\n",
              "    display: none;\n",
              "    fill: var(--fill-color);\n",
              "    height: 32px;\n",
              "    padding: 0;\n",
              "    width: 32px;\n",
              "  }\n",
              "\n",
              "  .colab-df-quickchart:hover {\n",
              "    background-color: var(--hover-bg-color);\n",
              "    box-shadow: 0 1px 2px rgba(60, 64, 67, 0.3), 0 1px 3px 1px rgba(60, 64, 67, 0.15);\n",
              "    fill: var(--button-hover-fill-color);\n",
              "  }\n",
              "\n",
              "  .colab-df-quickchart-complete:disabled,\n",
              "  .colab-df-quickchart-complete:disabled:hover {\n",
              "    background-color: var(--disabled-bg-color);\n",
              "    fill: var(--disabled-fill-color);\n",
              "    box-shadow: none;\n",
              "  }\n",
              "\n",
              "  .colab-df-spinner {\n",
              "    border: 2px solid var(--fill-color);\n",
              "    border-color: transparent;\n",
              "    border-bottom-color: var(--fill-color);\n",
              "    animation:\n",
              "      spin 1s steps(1) infinite;\n",
              "  }\n",
              "\n",
              "  @keyframes spin {\n",
              "    0% {\n",
              "      border-color: transparent;\n",
              "      border-bottom-color: var(--fill-color);\n",
              "      border-left-color: var(--fill-color);\n",
              "    }\n",
              "    20% {\n",
              "      border-color: transparent;\n",
              "      border-left-color: var(--fill-color);\n",
              "      border-top-color: var(--fill-color);\n",
              "    }\n",
              "    30% {\n",
              "      border-color: transparent;\n",
              "      border-left-color: var(--fill-color);\n",
              "      border-top-color: var(--fill-color);\n",
              "      border-right-color: var(--fill-color);\n",
              "    }\n",
              "    40% {\n",
              "      border-color: transparent;\n",
              "      border-right-color: var(--fill-color);\n",
              "      border-top-color: var(--fill-color);\n",
              "    }\n",
              "    60% {\n",
              "      border-color: transparent;\n",
              "      border-right-color: var(--fill-color);\n",
              "    }\n",
              "    80% {\n",
              "      border-color: transparent;\n",
              "      border-right-color: var(--fill-color);\n",
              "      border-bottom-color: var(--fill-color);\n",
              "    }\n",
              "    90% {\n",
              "      border-color: transparent;\n",
              "      border-bottom-color: var(--fill-color);\n",
              "    }\n",
              "  }\n",
              "</style>\n",
              "\n",
              "  <script>\n",
              "    async function quickchart(key) {\n",
              "      const quickchartButtonEl =\n",
              "        document.querySelector('#' + key + ' button');\n",
              "      quickchartButtonEl.disabled = true;  // To prevent multiple clicks.\n",
              "      quickchartButtonEl.classList.add('colab-df-spinner');\n",
              "      try {\n",
              "        const charts = await google.colab.kernel.invokeFunction(\n",
              "            'suggestCharts', [key], {});\n",
              "      } catch (error) {\n",
              "        console.error('Error during call to suggestCharts:', error);\n",
              "      }\n",
              "      quickchartButtonEl.classList.remove('colab-df-spinner');\n",
              "      quickchartButtonEl.classList.add('colab-df-quickchart-complete');\n",
              "    }\n",
              "    (() => {\n",
              "      let quickchartButtonEl =\n",
              "        document.querySelector('#df-94cbf6a6-15be-4bff-a638-68b069da6b7c button');\n",
              "      quickchartButtonEl.style.display =\n",
              "        google.colab.kernel.accessAllowed ? 'block' : 'none';\n",
              "    })();\n",
              "  </script>\n",
              "</div>\n",
              "    </div>\n",
              "  </div>\n"
            ],
            "text/plain": [
              "       bathroom  floor              locality  property_age  property_size  \\\n",
              "15005         2      2            Gachibowli             5           1000   \n",
              "11064         3      1  Sanjeeva Reddy Nagar             7           1800   \n",
              "6423          2      2              Kondapur             0           1250   \n",
              "4845          2      2               Miyapur            10           1700   \n",
              "10454         2      2         Banjara Hills             0            900   \n",
              "\n",
              "       totalFloor  type_bhk total_price  locality_encoded  \n",
              "15005           3       2.0      014000               130  \n",
              "11064           4       3.0      130000               364  \n",
              "6423            5       2.0   180023000               208  \n",
              "4845            5       3.0   200022000               265  \n",
              "10454           4       2.0      024000                78  "
            ]
          },
          "execution_count": 53,
          "metadata": {},
          "output_type": "execute_result"
        }
      ],
      "source": [
        "New_Data.head()"
      ]
    },
    {
      "cell_type": "code",
      "execution_count": 44,
      "metadata": {
        "id": "D01b_Zst7qdE"
      },
      "outputs": [],
      "source": [
        "# Make predictions on the test set\n",
        "y_pred = model.predict(X_test)"
      ]
    },
    {
      "cell_type": "code",
      "execution_count": 51,
      "metadata": {},
      "outputs": [],
      "source": []
    },
    {
      "cell_type": "code",
      "execution_count": 1,
      "metadata": {},
      "outputs": [
        {
          "ename": "SyntaxError",
          "evalue": "invalid syntax (4215387895.py, line 2)",
          "output_type": "error",
          "traceback": [
            "\u001b[1;36m  Cell \u001b[1;32mIn[1], line 2\u001b[1;36m\u001b[0m\n\u001b[1;33m    model = 'Neural Network': MLPRegressor(max_iter=1000)\u001b[0m\n\u001b[1;37m                            ^\u001b[0m\n\u001b[1;31mSyntaxError\u001b[0m\u001b[1;31m:\u001b[0m invalid syntax\n"
          ]
        }
      ],
      "source": [
        "# Define a list of models to train\n",
        "model = 'Neural Network': MLPRegressor(max_iter=1000)\n"
      ]
    },
    {
      "cell_type": "code",
      "execution_count": 53,
      "metadata": {},
      "outputs": [
        {
          "name": "stdout",
          "output_type": "stream",
          "text": [
            "Decision Tree: MAE=767.1749035, MSE=1735355.0629555085, R2=-0.14233058194026582\n",
            "Random Forest: MAE=569.7097028867857, MSE=825910.1210005069, R2=0.45632890392699244\n",
            "Gradient Boosting: MAE=584.987669464388, MSE=986899.8945717568, R2=0.3503543136798133\n",
            "XGBoost: MAE=630.1798578752442, MSE=1034992.0748044258, R2=0.31869671841029157\n",
            "SVR: MAE=825.6371613241811, MSE=1455077.6218290562, R2=0.04216739156460503\n",
            "Neural Network: MAE=586.7536164675903, MSE=640673.0531427064, R2=0.5782647382930888\n",
            "Best Model: RandomForestRegressor()\n"
          ]
        },
        {
          "name": "stderr",
          "output_type": "stream",
          "text": [
            "c:\\Python312\\Lib\\site-packages\\sklearn\\neural_network\\_multilayer_perceptron.py:690: ConvergenceWarning: Stochastic Optimizer: Maximum iterations (1000) reached and the optimization hasn't converged yet.\n",
            "  warnings.warn(\n"
          ]
        }
      ],
      "source": [
        "# Train and evaluate models\n",
        "best_model = None\n",
        "best_score = float('inf')\n",
        "for name, model in models.items():\n",
        "    model.fit(X_train, y_train)\n",
        "    y_pred = model.predict(X_test)\n",
        "    mae = mean_absolute_error(y_test, y_pred)\n",
        "    mse = mean_squared_error(y_test, y_pred)\n",
        "    r2 = r2_score(y_test, y_pred)\n",
        "    print(f'{name}: MAE={mae}, MSE={mse}, R2={r2}')\n",
        "    if mae < best_score:\n",
        "        best_score = mae\n",
        "        best_model = model\n",
        "\n",
        "print(f'Best Model: {best_model}')"
      ]
    },
    {
      "cell_type": "code",
      "execution_count": 50,
      "metadata": {
        "colab": {
          "base_uri": "https://localhost:8080/"
        },
        "id": "kKqm8_Sj10yw",
        "outputId": "e7312284-4751-411e-9b8d-5ed01d23cc0b"
      },
      "outputs": [
        {
          "name": "stderr",
          "output_type": "stream",
          "text": [
            "c:\\Python312\\Lib\\site-packages\\sklearn\\metrics\\_regression.py:492: FutureWarning: 'squared' is deprecated in version 1.4 and will be removed in 1.6. To calculate the root mean squared error, use the function'root_mean_squared_error'.\n",
            "  warnings.warn(\n"
          ]
        },
        {
          "ename": "ValueError",
          "evalue": "continuous is not supported",
          "output_type": "error",
          "traceback": [
            "\u001b[1;31m---------------------------------------------------------------------------\u001b[0m",
            "\u001b[1;31mValueError\u001b[0m                                Traceback (most recent call last)",
            "Cell \u001b[1;32mIn[50], line 6\u001b[0m\n\u001b[0;32m      4\u001b[0m rmse \u001b[38;5;241m=\u001b[39m mean_squared_error(y_test, y_pred, squared\u001b[38;5;241m=\u001b[39m\u001b[38;5;28;01mFalse\u001b[39;00m)\n\u001b[0;32m      5\u001b[0m r2 \u001b[38;5;241m=\u001b[39m r2_score(y_test, y_pred)\n\u001b[1;32m----> 6\u001b[0m accuracy \u001b[38;5;241m=\u001b[39m \u001b[43maccuracy_score\u001b[49m\u001b[43m(\u001b[49m\u001b[43my_test\u001b[49m\u001b[43m,\u001b[49m\u001b[43m \u001b[49m\u001b[43my_pred\u001b[49m\u001b[43m)\u001b[49m\n\u001b[0;32m      7\u001b[0m \u001b[38;5;66;03m# Print the evaluation metrics\u001b[39;00m\n\u001b[0;32m      8\u001b[0m \u001b[38;5;28mprint\u001b[39m(\u001b[38;5;124mf\u001b[39m\u001b[38;5;124m\"\u001b[39m\u001b[38;5;124mMean Absolute Error: \u001b[39m\u001b[38;5;132;01m{\u001b[39;00mmae\u001b[38;5;132;01m}\u001b[39;00m\u001b[38;5;124m\"\u001b[39m)\n",
            "File \u001b[1;32mc:\\Python312\\Lib\\site-packages\\sklearn\\utils\\_param_validation.py:213\u001b[0m, in \u001b[0;36mvalidate_params.<locals>.decorator.<locals>.wrapper\u001b[1;34m(*args, **kwargs)\u001b[0m\n\u001b[0;32m    207\u001b[0m \u001b[38;5;28;01mtry\u001b[39;00m:\n\u001b[0;32m    208\u001b[0m     \u001b[38;5;28;01mwith\u001b[39;00m config_context(\n\u001b[0;32m    209\u001b[0m         skip_parameter_validation\u001b[38;5;241m=\u001b[39m(\n\u001b[0;32m    210\u001b[0m             prefer_skip_nested_validation \u001b[38;5;129;01mor\u001b[39;00m global_skip_validation\n\u001b[0;32m    211\u001b[0m         )\n\u001b[0;32m    212\u001b[0m     ):\n\u001b[1;32m--> 213\u001b[0m         \u001b[38;5;28;01mreturn\u001b[39;00m \u001b[43mfunc\u001b[49m\u001b[43m(\u001b[49m\u001b[38;5;241;43m*\u001b[39;49m\u001b[43margs\u001b[49m\u001b[43m,\u001b[49m\u001b[43m \u001b[49m\u001b[38;5;241;43m*\u001b[39;49m\u001b[38;5;241;43m*\u001b[39;49m\u001b[43mkwargs\u001b[49m\u001b[43m)\u001b[49m\n\u001b[0;32m    214\u001b[0m \u001b[38;5;28;01mexcept\u001b[39;00m InvalidParameterError \u001b[38;5;28;01mas\u001b[39;00m e:\n\u001b[0;32m    215\u001b[0m     \u001b[38;5;66;03m# When the function is just a wrapper around an estimator, we allow\u001b[39;00m\n\u001b[0;32m    216\u001b[0m     \u001b[38;5;66;03m# the function to delegate validation to the estimator, but we replace\u001b[39;00m\n\u001b[0;32m    217\u001b[0m     \u001b[38;5;66;03m# the name of the estimator by the name of the function in the error\u001b[39;00m\n\u001b[0;32m    218\u001b[0m     \u001b[38;5;66;03m# message to avoid confusion.\u001b[39;00m\n\u001b[0;32m    219\u001b[0m     msg \u001b[38;5;241m=\u001b[39m re\u001b[38;5;241m.\u001b[39msub(\n\u001b[0;32m    220\u001b[0m         \u001b[38;5;124mr\u001b[39m\u001b[38;5;124m\"\u001b[39m\u001b[38;5;124mparameter of \u001b[39m\u001b[38;5;124m\\\u001b[39m\u001b[38;5;124mw+ must be\u001b[39m\u001b[38;5;124m\"\u001b[39m,\n\u001b[0;32m    221\u001b[0m         \u001b[38;5;124mf\u001b[39m\u001b[38;5;124m\"\u001b[39m\u001b[38;5;124mparameter of \u001b[39m\u001b[38;5;132;01m{\u001b[39;00mfunc\u001b[38;5;241m.\u001b[39m\u001b[38;5;18m__qualname__\u001b[39m\u001b[38;5;132;01m}\u001b[39;00m\u001b[38;5;124m must be\u001b[39m\u001b[38;5;124m\"\u001b[39m,\n\u001b[0;32m    222\u001b[0m         \u001b[38;5;28mstr\u001b[39m(e),\n\u001b[0;32m    223\u001b[0m     )\n",
            "File \u001b[1;32mc:\\Python312\\Lib\\site-packages\\sklearn\\metrics\\_classification.py:222\u001b[0m, in \u001b[0;36maccuracy_score\u001b[1;34m(y_true, y_pred, normalize, sample_weight)\u001b[0m\n\u001b[0;32m    161\u001b[0m \u001b[38;5;250m\u001b[39m\u001b[38;5;124;03m\"\"\"Accuracy classification score.\u001b[39;00m\n\u001b[0;32m    162\u001b[0m \n\u001b[0;32m    163\u001b[0m \u001b[38;5;124;03mIn multilabel classification, this function computes subset accuracy:\u001b[39;00m\n\u001b[1;32m   (...)\u001b[0m\n\u001b[0;32m    218\u001b[0m \u001b[38;5;124;03m0.5\u001b[39;00m\n\u001b[0;32m    219\u001b[0m \u001b[38;5;124;03m\"\"\"\u001b[39;00m\n\u001b[0;32m    221\u001b[0m \u001b[38;5;66;03m# Compute accuracy for each possible representation\u001b[39;00m\n\u001b[1;32m--> 222\u001b[0m y_type, y_true, y_pred \u001b[38;5;241m=\u001b[39m \u001b[43m_check_targets\u001b[49m\u001b[43m(\u001b[49m\u001b[43my_true\u001b[49m\u001b[43m,\u001b[49m\u001b[43m \u001b[49m\u001b[43my_pred\u001b[49m\u001b[43m)\u001b[49m\n\u001b[0;32m    223\u001b[0m check_consistent_length(y_true, y_pred, sample_weight)\n\u001b[0;32m    224\u001b[0m \u001b[38;5;28;01mif\u001b[39;00m y_type\u001b[38;5;241m.\u001b[39mstartswith(\u001b[38;5;124m\"\u001b[39m\u001b[38;5;124mmultilabel\u001b[39m\u001b[38;5;124m\"\u001b[39m):\n",
            "File \u001b[1;32mc:\\Python312\\Lib\\site-packages\\sklearn\\metrics\\_classification.py:119\u001b[0m, in \u001b[0;36m_check_targets\u001b[1;34m(y_true, y_pred)\u001b[0m\n\u001b[0;32m    117\u001b[0m \u001b[38;5;66;03m# No metrics support \"multiclass-multioutput\" format\u001b[39;00m\n\u001b[0;32m    118\u001b[0m \u001b[38;5;28;01mif\u001b[39;00m y_type \u001b[38;5;129;01mnot\u001b[39;00m \u001b[38;5;129;01min\u001b[39;00m [\u001b[38;5;124m\"\u001b[39m\u001b[38;5;124mbinary\u001b[39m\u001b[38;5;124m\"\u001b[39m, \u001b[38;5;124m\"\u001b[39m\u001b[38;5;124mmulticlass\u001b[39m\u001b[38;5;124m\"\u001b[39m, \u001b[38;5;124m\"\u001b[39m\u001b[38;5;124mmultilabel-indicator\u001b[39m\u001b[38;5;124m\"\u001b[39m]:\n\u001b[1;32m--> 119\u001b[0m     \u001b[38;5;28;01mraise\u001b[39;00m \u001b[38;5;167;01mValueError\u001b[39;00m(\u001b[38;5;124m\"\u001b[39m\u001b[38;5;132;01m{0}\u001b[39;00m\u001b[38;5;124m is not supported\u001b[39m\u001b[38;5;124m\"\u001b[39m\u001b[38;5;241m.\u001b[39mformat(y_type))\n\u001b[0;32m    121\u001b[0m \u001b[38;5;28;01mif\u001b[39;00m y_type \u001b[38;5;129;01min\u001b[39;00m [\u001b[38;5;124m\"\u001b[39m\u001b[38;5;124mbinary\u001b[39m\u001b[38;5;124m\"\u001b[39m, \u001b[38;5;124m\"\u001b[39m\u001b[38;5;124mmulticlass\u001b[39m\u001b[38;5;124m\"\u001b[39m]:\n\u001b[0;32m    122\u001b[0m     xp, _ \u001b[38;5;241m=\u001b[39m get_namespace(y_true, y_pred)\n",
            "\u001b[1;31mValueError\u001b[0m: continuous is not supported"
          ]
        }
      ],
      "source": [
        "# Calculate evaluation metrics\n",
        "mae = mean_absolute_error(y_test, y_pred)\n",
        "mse = mean_squared_error(y_test, y_pred)\n",
        "rmse = mean_squared_error(y_test, y_pred, squared=False)\n",
        "r2 = r2_score(y_test, y_pred)\n",
        "\n",
        "# Print the evaluation metrics\n",
        "print(f\"Mean Absolute Error: {mae}\")\n",
        "print(f\"Mean Squared Error: {mse}\")\n",
        "print(f\"Root Mean Squared Error: {rmse}\")\n",
        "print(f\"R-squared: {r2}\")\n"
      ]
    },
    {
      "cell_type": "code",
      "execution_count": 58,
      "metadata": {
        "colab": {
          "base_uri": "https://localhost:8080/"
        },
        "id": "OQUekdkn74eF",
        "outputId": "582b2a0a-6060-47c3-b0d6-9b7763ac2094"
      },
      "outputs": [
        {
          "name": "stdout",
          "output_type": "stream",
          "text": [
            "10 gaj is equal to 90 square feet.\n"
          ]
        }
      ],
      "source": [
        "def gaj_to_sqft(gaj):\n",
        "    # 1 gaj = 9 square feet\n",
        "    sqft = gaj * 9\n",
        "    return sqft\n",
        "\n",
        "# Example usage:\n",
        "gaj_area = 10\n",
        "sqft_area = gaj_to_sqft(gaj_area)\n",
        "print(f\"{gaj_area} gaj is equal to {sqft_area} square feet.\")\n"
      ]
    },
    {
      "cell_type": "code",
      "execution_count": 54,
      "metadata": {
        "colab": {
          "base_uri": "https://localhost:8080/",
          "height": 390
        },
        "id": "IfQjBPNj102P",
        "outputId": "9ea1e1c4-a8f3-4f58-81ba-6204459d8222"
      },
      "outputs": [],
      "source": [
        "\n",
        "# User input\n",
        "user_inputs = {}\n",
        "\n",
        "# user_inputs['floor'] = int(input(\"Enter the floor number: \"))\n",
        "user_inputs['locality'] = input(\"Enter the locality: \")\n",
        "user_inputs['property_age'] = int(input(\"Enter the property age: \"))\n",
        "user_inputs['property_size'] = int(input(\"Enter the property size: \"))\n",
        "user_inputs['totalFloor'] = int(input(\"Enter the total floor: \"))\n",
        "user_inputs['type_bhk'] = float(input(\"Enter the type BHK: \"))\n",
        "user_inputs['bathroom'] = int(input(\"Enter the number of bathrooms: \"))\n",
        "\n",
        "# Convert user input to DataFrame\n",
        "input_df = pd.DataFrame([user_inputs])\n",
        "\n",
        "# Encode the 'locality' column\n",
        "input_df['locality_encoded'] = label_encoder.transform(input_df['locality'])\n",
        "\n",
        "# Make predictions\n",
        "predicted_prices = model.predict(input_df[['bathroom','locality_encoded', 'property_age', 'property_size', 'totalFloor', 'type_bhk']])\n",
        "\n",
        "# Display the predicted total price\n",
        "print(f\"The predicted total price is: {predicted_prices[0]}\")\n",
        "\n",
        "\n"
      ]
    },
    {
      "cell_type": "code",
      "execution_count": null,
      "metadata": {
        "id": "0zNq8_C9Pw4s"
      },
      "outputs": [],
      "source": [
        "#to check if a desired location exists in dataset change the 'narapally' with desired location name\n",
        "if 'Narapally' in New_Data['locality'].values:\n",
        "    print(\"narapally is present in the 'locality' column.\")\n",
        "else:\n",
        "    print(\"narapally is not present in the 'locality' column.\")"
      ]
    }
  ],
  "metadata": {
    "colab": {
      "provenance": []
    },
    "kernelspec": {
      "display_name": "Python 3",
      "name": "python3"
    },
    "language_info": {
      "codemirror_mode": {
        "name": "ipython",
        "version": 3
      },
      "file_extension": ".py",
      "mimetype": "text/x-python",
      "name": "python",
      "nbconvert_exporter": "python",
      "pygments_lexer": "ipython3",
      "version": "3.12.2"
    }
  },
  "nbformat": 4,
  "nbformat_minor": 0
}
